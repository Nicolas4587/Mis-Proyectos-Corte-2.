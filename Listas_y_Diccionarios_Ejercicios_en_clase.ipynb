{
  "nbformat": 4,
  "nbformat_minor": 0,
  "metadata": {
    "colab": {
      "provenance": [],
      "collapsed_sections": []
    },
    "kernelspec": {
      "name": "python3",
      "display_name": "Python 3"
    },
    "language_info": {
      "name": "python"
    }
  },
  "cells": [
    {
      "cell_type": "markdown",
      "source": [
        "##Lista por compresión:\n",
        "\n",
        "sintaxis:newList=[Expresión (elemento) for elementos n in oldList si condición]\n",
        "\n",
        "esto tecnicamentees colocar primero la expresión u operación y luego la condición."
      ],
      "metadata": {
        "id": "hqO2KU_i9_cs"
      }
    },
    {
      "cell_type": "code",
      "execution_count": null,
      "metadata": {
        "colab": {
          "base_uri": "https://localhost:8080/"
        },
        "id": "K1o5MTHm98P4",
        "outputId": "83ed07d5-5a86-42eb-fe8f-66c35d4c25f9"
      },
      "outputs": [
        {
          "output_type": "stream",
          "name": "stdout",
          "text": [
            "[2, 4, 6, 8, 10, 12, 14, 16]\n"
          ]
        }
      ],
      "source": [
        "números=[(n*2)for n in range(1,9)]\n",
        "print(números)"
      ]
    },
    {
      "cell_type": "markdown",
      "source": [
        "##Ventajas:\n",
        "más eficientes en tiempo y espacio que los bucles.\n",
        "\n",
        "Requiere menos lineas de código.\n",
        "\n",
        "Transforma una declaración iterativa en una fórmula."
      ],
      "metadata": {
        "id": "2mdV-Iaa_I9w"
      }
    },
    {
      "cell_type": "code",
      "source": [
        "cadenas=[\"*\"* n for n in range(1,6)]\n",
        "print(cadenas)"
      ],
      "metadata": {
        "colab": {
          "base_uri": "https://localhost:8080/"
        },
        "id": "BCxuK6C2Ag6j",
        "outputId": "b5378783-0aa3-49e9-9465-d0e37845848a"
      },
      "execution_count": null,
      "outputs": [
        {
          "output_type": "stream",
          "name": "stdout",
          "text": [
            "['*', '**', '***', '****', '*****']\n"
          ]
        }
      ]
    },
    {
      "cell_type": "code",
      "source": [
        "números=[2,5,6,9,10]\n",
        "cuadrados=[(n**2)for n in números]\n",
        "print(cuadrados)"
      ],
      "metadata": {
        "colab": {
          "base_uri": "https://localhost:8080/"
        },
        "id": "CkWdguSKAsor",
        "outputId": "6d5e2c51-5987-49e2-d3f4-c65a0292ec6a"
      },
      "execution_count": null,
      "outputs": [
        {
          "output_type": "stream",
          "name": "stdout",
          "text": [
            "[4, 25, 36, 81, 100]\n"
          ]
        }
      ]
    },
    {
      "cell_type": "markdown",
      "source": [
        "##ejercicio 1"
      ],
      "metadata": {
        "id": "UYopP1kFCnw9"
      }
    },
    {
      "cell_type": "code",
      "source": [
        "x=input(\"Ingrese la palabra que desee:\")\n",
        "lista=[n for n in x]\n",
        "print(lista)"
      ],
      "metadata": {
        "colab": {
          "base_uri": "https://localhost:8080/"
        },
        "id": "3OJVnpv5CjOt",
        "outputId": "4e41f53e-6088-41f5-9409-0c6e77bad88d"
      },
      "execution_count": null,
      "outputs": [
        {
          "output_type": "stream",
          "name": "stdout",
          "text": [
            "Ingrese la palabra que desee:hola\n",
            "['h', 'o', 'l', 'a']\n"
          ]
        }
      ]
    },
    {
      "cell_type": "markdown",
      "source": [
        "##Ejercicio 2"
      ],
      "metadata": {
        "id": "2UabhBMcC4QE"
      }
    },
    {
      "cell_type": "code",
      "source": [
        "lista1=[2,7,10,9,8]\n",
        "lista2=[elemento**2 for elemento in lista1 if elemento%2==0]\n",
        "print(\"nueva lista\",lista2)"
      ],
      "metadata": {
        "colab": {
          "base_uri": "https://localhost:8080/"
        },
        "id": "Y_9-rd60C3i8",
        "outputId": "e5a12a2a-3a5d-4cfe-9f1c-276ec85abc92"
      },
      "execution_count": null,
      "outputs": [
        {
          "output_type": "stream",
          "name": "stdout",
          "text": [
            "nueva lista [4, 100, 64]\n"
          ]
        }
      ]
    },
    {
      "cell_type": "markdown",
      "source": [
        "##Ejercicio 3"
      ],
      "metadata": {
        "id": "IBbZx1HvFL-O"
      }
    },
    {
      "cell_type": "code",
      "source": [
        "import random\n",
        "capitan=[random.randrange(1,30)for i in range (9)]\n",
        "print(\"Imprimir numeros aleatorios de la lista: \",str(capitan))"
      ],
      "metadata": {
        "colab": {
          "base_uri": "https://localhost:8080/"
        },
        "id": "-UmQlubQEH_j",
        "outputId": "3ec3b5dd-2b28-4ec6-ce31-237974d13d98"
      },
      "execution_count": null,
      "outputs": [
        {
          "output_type": "stream",
          "name": "stdout",
          "text": [
            "Imprimir numeros aleatorios de la lista:  [13, 20, 8, 28, 5, 15, 22, 24, 12]\n"
          ]
        }
      ]
    },
    {
      "cell_type": "markdown",
      "source": [
        "##Ejercicio 4\n"
      ],
      "metadata": {
        "id": "x4T3Pz4LFOC-"
      }
    },
    {
      "cell_type": "code",
      "source": [
        "precios=[]\n",
        "print('ingrese los números de los que quieres hacer un descuento')\n",
        "det =True\n",
        "while det:\n",
        "  num =int(input('si no desea agregar más números digite 0'))\n",
        "  precios.append(num)\n",
        "  det = False if num == 0 else num>0\n",
        "  des=float(input(print('ingrese el descuento sin el %')))\n",
        "presdes = [precio*des/100 for precio in precios]\n",
        "presdes.pop(-1)\n",
        "print('este es el valor que le debes resta a cada número',presdes)\n"
      ],
      "metadata": {
        "colab": {
          "base_uri": "https://localhost:8080/",
          "height": 484
        },
        "id": "21qLrREUFC3-",
        "outputId": "ca04bcfe-19f7-4ca3-8863-91b61822eb0b"
      },
      "execution_count": null,
      "outputs": [
        {
          "output_type": "stream",
          "name": "stdout",
          "text": [
            "ingrese los números de los que quieres hacer un descuento\n",
            "si no desea agregar más números digite 05\n",
            "ingrese el descuento sin el %\n",
            "None7\n",
            "si no desea agregar más números digite 00\n",
            "ingrese el descuento sin el %\n"
          ]
        },
        {
          "output_type": "error",
          "ename": "KeyboardInterrupt",
          "evalue": "ignored",
          "traceback": [
            "\u001b[0;31m---------------------------------------------------------------------------\u001b[0m",
            "\u001b[0;31mKeyboardInterrupt\u001b[0m                         Traceback (most recent call last)",
            "\u001b[0;32m<ipython-input-17-c185b378aa87>\u001b[0m in \u001b[0;36m<module>\u001b[0;34m\u001b[0m\n\u001b[1;32m      6\u001b[0m   \u001b[0mprecios\u001b[0m\u001b[0;34m.\u001b[0m\u001b[0mappend\u001b[0m\u001b[0;34m(\u001b[0m\u001b[0mnum\u001b[0m\u001b[0;34m)\u001b[0m\u001b[0;34m\u001b[0m\u001b[0;34m\u001b[0m\u001b[0m\n\u001b[1;32m      7\u001b[0m   \u001b[0mdet\u001b[0m \u001b[0;34m=\u001b[0m \u001b[0;32mFalse\u001b[0m \u001b[0;32mif\u001b[0m \u001b[0mnum\u001b[0m \u001b[0;34m==\u001b[0m \u001b[0;36m0\u001b[0m \u001b[0;32melse\u001b[0m \u001b[0mnum\u001b[0m\u001b[0;34m>\u001b[0m\u001b[0;36m0\u001b[0m\u001b[0;34m\u001b[0m\u001b[0;34m\u001b[0m\u001b[0m\n\u001b[0;32m----> 8\u001b[0;31m   \u001b[0mdes\u001b[0m\u001b[0;34m=\u001b[0m\u001b[0mfloat\u001b[0m\u001b[0;34m(\u001b[0m\u001b[0minput\u001b[0m\u001b[0;34m(\u001b[0m\u001b[0mprint\u001b[0m\u001b[0;34m(\u001b[0m\u001b[0;34m'ingrese el descuento sin el %'\u001b[0m\u001b[0;34m)\u001b[0m\u001b[0;34m)\u001b[0m\u001b[0;34m)\u001b[0m\u001b[0;34m\u001b[0m\u001b[0;34m\u001b[0m\u001b[0m\n\u001b[0m\u001b[1;32m      9\u001b[0m \u001b[0mpresdes\u001b[0m \u001b[0;34m=\u001b[0m \u001b[0;34m[\u001b[0m\u001b[0mprecio\u001b[0m\u001b[0;34m*\u001b[0m\u001b[0mdes\u001b[0m\u001b[0;34m/\u001b[0m\u001b[0;36m100\u001b[0m \u001b[0;32mfor\u001b[0m \u001b[0mprecio\u001b[0m \u001b[0;32min\u001b[0m \u001b[0mprecios\u001b[0m\u001b[0;34m]\u001b[0m\u001b[0;34m\u001b[0m\u001b[0;34m\u001b[0m\u001b[0m\n\u001b[1;32m     10\u001b[0m \u001b[0mpresdes\u001b[0m\u001b[0;34m.\u001b[0m\u001b[0mpop\u001b[0m\u001b[0;34m(\u001b[0m\u001b[0;34m-\u001b[0m\u001b[0;36m1\u001b[0m\u001b[0;34m)\u001b[0m\u001b[0;34m\u001b[0m\u001b[0;34m\u001b[0m\u001b[0m\n",
            "\u001b[0;32m/usr/local/lib/python3.7/dist-packages/ipykernel/kernelbase.py\u001b[0m in \u001b[0;36mraw_input\u001b[0;34m(self, prompt)\u001b[0m\n\u001b[1;32m    861\u001b[0m             \u001b[0mself\u001b[0m\u001b[0;34m.\u001b[0m\u001b[0m_parent_ident\u001b[0m\u001b[0;34m,\u001b[0m\u001b[0;34m\u001b[0m\u001b[0;34m\u001b[0m\u001b[0m\n\u001b[1;32m    862\u001b[0m             \u001b[0mself\u001b[0m\u001b[0;34m.\u001b[0m\u001b[0m_parent_header\u001b[0m\u001b[0;34m,\u001b[0m\u001b[0;34m\u001b[0m\u001b[0;34m\u001b[0m\u001b[0m\n\u001b[0;32m--> 863\u001b[0;31m             \u001b[0mpassword\u001b[0m\u001b[0;34m=\u001b[0m\u001b[0;32mFalse\u001b[0m\u001b[0;34m,\u001b[0m\u001b[0;34m\u001b[0m\u001b[0;34m\u001b[0m\u001b[0m\n\u001b[0m\u001b[1;32m    864\u001b[0m         )\n\u001b[1;32m    865\u001b[0m \u001b[0;34m\u001b[0m\u001b[0m\n",
            "\u001b[0;32m/usr/local/lib/python3.7/dist-packages/ipykernel/kernelbase.py\u001b[0m in \u001b[0;36m_input_request\u001b[0;34m(self, prompt, ident, parent, password)\u001b[0m\n\u001b[1;32m    902\u001b[0m             \u001b[0;32mexcept\u001b[0m \u001b[0mKeyboardInterrupt\u001b[0m\u001b[0;34m:\u001b[0m\u001b[0;34m\u001b[0m\u001b[0;34m\u001b[0m\u001b[0m\n\u001b[1;32m    903\u001b[0m                 \u001b[0;31m# re-raise KeyboardInterrupt, to truncate traceback\u001b[0m\u001b[0;34m\u001b[0m\u001b[0;34m\u001b[0m\u001b[0;34m\u001b[0m\u001b[0m\n\u001b[0;32m--> 904\u001b[0;31m                 \u001b[0;32mraise\u001b[0m \u001b[0mKeyboardInterrupt\u001b[0m\u001b[0;34m(\u001b[0m\u001b[0;34m\"Interrupted by user\"\u001b[0m\u001b[0;34m)\u001b[0m \u001b[0;32mfrom\u001b[0m \u001b[0;32mNone\u001b[0m\u001b[0;34m\u001b[0m\u001b[0;34m\u001b[0m\u001b[0m\n\u001b[0m\u001b[1;32m    905\u001b[0m             \u001b[0;32mexcept\u001b[0m \u001b[0mException\u001b[0m \u001b[0;32mas\u001b[0m \u001b[0me\u001b[0m\u001b[0;34m:\u001b[0m\u001b[0;34m\u001b[0m\u001b[0;34m\u001b[0m\u001b[0m\n\u001b[1;32m    906\u001b[0m                 \u001b[0mself\u001b[0m\u001b[0;34m.\u001b[0m\u001b[0mlog\u001b[0m\u001b[0;34m.\u001b[0m\u001b[0mwarning\u001b[0m\u001b[0;34m(\u001b[0m\u001b[0;34m\"Invalid Message:\"\u001b[0m\u001b[0;34m,\u001b[0m \u001b[0mexc_info\u001b[0m\u001b[0;34m=\u001b[0m\u001b[0;32mTrue\u001b[0m\u001b[0;34m)\u001b[0m\u001b[0;34m\u001b[0m\u001b[0;34m\u001b[0m\u001b[0m\n",
            "\u001b[0;31mKeyboardInterrupt\u001b[0m: Interrupted by user"
          ]
        }
      ]
    },
    {
      "cell_type": "markdown",
      "source": [
        "\n",
        "##EJERCICIO 5. by Cristian"
      ],
      "metadata": {
        "id": "7YX0uUKnva_m"
      }
    },
    {
      "cell_type": "code",
      "source": [
        "num[]\n",
        "for i in range(6):\n",
        "  num.append(int(input(\"ingresar el numero ganador: \")))\n",
        "num.sort()\n",
        "print(\"Los numeros ganadores del baloto son: \" + str(num ))"
      ],
      "metadata": {
        "id": "y2-T35nFI_Lt",
        "colab": {
          "base_uri": "https://localhost:8080/",
          "height": 130
        },
        "outputId": "f2afbfad-40e4-41cf-a7b6-c996948c7033"
      },
      "execution_count": null,
      "outputs": [
        {
          "output_type": "error",
          "ename": "SyntaxError",
          "evalue": "ignored",
          "traceback": [
            "\u001b[0;36m  File \u001b[0;32m\"<ipython-input-3-637055e3168e>\"\u001b[0;36m, line \u001b[0;32m1\u001b[0m\n\u001b[0;31m    num[]\u001b[0m\n\u001b[0m        ^\u001b[0m\n\u001b[0;31mSyntaxError\u001b[0m\u001b[0;31m:\u001b[0m invalid syntax\n"
          ]
        }
      ]
    },
    {
      "cell_type": "markdown",
      "source": [
        "##EJERCICIO 6. BY JULITO"
      ],
      "metadata": {
        "id": "jM9xMuduwWGI"
      }
    },
    {
      "cell_type": "code",
      "source": [
        "##Tradicional\n",
        "n=int(input(\"ingresa el número de palabras que vas a ingresar: \"))\n",
        "lista=[]\n",
        "lista1=[]\n",
        "for i in range(n):\n",
        " l=input(\"ingresar la palabra:\")\n",
        " if l.isupper():lista.append(l)\n",
        " if l.islower():lista.append(l)\n",
        "\n",
        "\n"
      ],
      "metadata": {
        "colab": {
          "base_uri": "https://localhost:8080/"
        },
        "id": "JC4T1anXwVzo",
        "outputId": "5680e2f8-a1e6-4fbf-8ccd-c2b9879f471c"
      },
      "execution_count": null,
      "outputs": [
        {
          "name": "stdout",
          "output_type": "stream",
          "text": [
            "ingresa el número de palabras que vas a ingresar: 5\n",
            "ingresar la palabra:hjugu\n",
            "ingresar la palabra:jkfsdhfjkhsdjk\n",
            "ingresar la palabra:jsdhfjkdhsfkjlsd\n",
            "ingresar la palabra:fsjkdfhkjdf\n",
            "ingresar la palabra:jksdhfkjldshf\n"
          ]
        }
      ]
    },
    {
      "cell_type": "code",
      "source": [
        "lista"
      ],
      "metadata": {
        "colab": {
          "base_uri": "https://localhost:8080/"
        },
        "id": "5OL-3f-4zq45",
        "outputId": "6c6860c5-c433-4268-9119-9d246fefa29c"
      },
      "execution_count": null,
      "outputs": [
        {
          "output_type": "execute_result",
          "data": {
            "text/plain": [
              "[1, 1, 1, 1, 1]"
            ]
          },
          "metadata": {},
          "execution_count": 5
        }
      ]
    },
    {
      "cell_type": "code",
      "source": [
        "##comprensión\n",
        "n=int(input(\"ingresar el numero de palabras que vas a ingresar: \"))\n",
        "lista=[]\n",
        "for i in range(n):\n",
        "  l=input(\"ingresa la palabra: \")\n",
        "  lista.append(l)\n",
        "\n",
        "lista_comprimida_M=[elementos for elementos in lista if elementos.isupper()] \n",
        "lista_comprimida_m=[elementos for elementos in lista if elementos.islower()] \n",
        "\n",
        "print(\"las palabras escritas es mayuscula son \")\n",
        "print(lista_comprimida_M)\n",
        "print(\"Las palabras escritas es minusculas son \")\n",
        "print(lista_comprimida_m)"
      ],
      "metadata": {
        "colab": {
          "base_uri": "https://localhost:8080/",
          "height": 252
        },
        "id": "h8dgIJH50LS8",
        "outputId": "c8951855-9dcb-4a32-dc08-7b3c4b9778ff"
      },
      "execution_count": null,
      "outputs": [
        {
          "name": "stdout",
          "output_type": "stream",
          "text": [
            "ingresar el numero de palabras que vas a ingresar45n\n"
          ]
        },
        {
          "output_type": "error",
          "ename": "ValueError",
          "evalue": "ignored",
          "traceback": [
            "\u001b[0;31m---------------------------------------------------------------------------\u001b[0m",
            "\u001b[0;31mValueError\u001b[0m                                Traceback (most recent call last)",
            "\u001b[0;32m<ipython-input-6-dec72d41c164>\u001b[0m in \u001b[0;36m<module>\u001b[0;34m\u001b[0m\n\u001b[1;32m      1\u001b[0m \u001b[0;31m##comprensión\u001b[0m\u001b[0;34m\u001b[0m\u001b[0;34m\u001b[0m\u001b[0;34m\u001b[0m\u001b[0m\n\u001b[0;32m----> 2\u001b[0;31m \u001b[0mn\u001b[0m\u001b[0;34m=\u001b[0m\u001b[0mint\u001b[0m\u001b[0;34m(\u001b[0m\u001b[0minput\u001b[0m\u001b[0;34m(\u001b[0m\u001b[0;34m\"ingresar el numero de palabras que vas a ingresar\"\u001b[0m\u001b[0;34m)\u001b[0m\u001b[0;34m)\u001b[0m\u001b[0;34m\u001b[0m\u001b[0;34m\u001b[0m\u001b[0m\n\u001b[0m\u001b[1;32m      3\u001b[0m \u001b[0mlista\u001b[0m\u001b[0;34m=\u001b[0m\u001b[0;34m[\u001b[0m\u001b[0;34m]\u001b[0m\u001b[0;34m\u001b[0m\u001b[0;34m\u001b[0m\u001b[0m\n\u001b[1;32m      4\u001b[0m \u001b[0;32mfor\u001b[0m \u001b[0mi\u001b[0m \u001b[0;32min\u001b[0m \u001b[0mrange\u001b[0m\u001b[0;34m(\u001b[0m\u001b[0mn\u001b[0m\u001b[0;34m)\u001b[0m\u001b[0;34m:\u001b[0m\u001b[0;34m\u001b[0m\u001b[0;34m\u001b[0m\u001b[0m\n\u001b[1;32m      5\u001b[0m   \u001b[0ml\u001b[0m\u001b[0;34m=\u001b[0m\u001b[0minput\u001b[0m\u001b[0;34m(\u001b[0m\u001b[0;34m\"ingresa la palabra\"\u001b[0m\u001b[0;34m)\u001b[0m\u001b[0;34m\u001b[0m\u001b[0;34m\u001b[0m\u001b[0m\n",
            "\u001b[0;31mValueError\u001b[0m: invalid literal for int() with base 10: '45n'"
          ]
        }
      ]
    },
    {
      "cell_type": "markdown",
      "source": [
        "##Ejercicio 7 by leslie karina "
      ],
      "metadata": {
        "id": "du7fxx_z6Szk"
      }
    },
    {
      "cell_type": "markdown",
      "source": [
        "##Tradicional"
      ],
      "metadata": {
        "id": "2-Koa5X_7d-5"
      }
    },
    {
      "cell_type": "code",
      "source": [
        "def pali (word):\n",
        "  rev=word[::-1]\n",
        "  return word==rev\n",
        "word=(input(\"Digita una palabra \"))\n",
        "final=pali(word)\n",
        "if final == True:\n",
        "  print(f\"{word} es una palabra palíndromo\")\n",
        "else:\n",
        "  print(f\"{word} No es una palabra palíndromo\") \n"
      ],
      "metadata": {
        "colab": {
          "base_uri": "https://localhost:8080/"
        },
        "id": "ZkYvg42T6EbN",
        "outputId": "6b5ebb01-7fab-4993-efb8-108c0ed6d5a4"
      },
      "execution_count": null,
      "outputs": [
        {
          "output_type": "stream",
          "name": "stdout",
          "text": [
            "Digita una palabra h\n",
            "h es una palabra palíndromo\n"
          ]
        }
      ]
    },
    {
      "cell_type": "markdown",
      "source": [
        "##Lambda"
      ],
      "metadata": {
        "id": "gm1OTMtF7hMR"
      }
    },
    {
      "cell_type": "code",
      "source": [
        "c=int(input(\"Digita la cantidad de elementos que deseas ingresar: \"))\n",
        "lista1=[]\n",
        "for i in range(c):\n",
        "  word=input(\"Escribe aqui: \").lower()\n",
        "  lista1.append(word)\n",
        "print(lista1)\n",
        "lista2=list((map(lambda x:True if x==x[::-1] else False, lista1)))\n",
        "lista2  "
      ],
      "metadata": {
        "colab": {
          "base_uri": "https://localhost:8080/"
        },
        "id": "fW54wlJm7jtG",
        "outputId": "5ce95bd8-bd8c-4169-9320-c50f7b631164"
      },
      "execution_count": null,
      "outputs": [
        {
          "output_type": "stream",
          "name": "stdout",
          "text": [
            "Digita la cantidad de elementos que deseas ingresar: 6\n",
            "Escribe aqui: alla\n",
            "Escribe aqui: su\n",
            "Escribe aqui: primer\n",
            "Escribe aqui: numero\n",
            "Escribe aqui: de\n",
            "Escribe aqui: celular\n",
            "['alla', 'su', 'primer', 'numero', 'de', 'celular']\n"
          ]
        },
        {
          "output_type": "execute_result",
          "data": {
            "text/plain": [
              "[True, False, False, False, False, False]"
            ]
          },
          "metadata": {},
          "execution_count": 17
        }
      ]
    },
    {
      "cell_type": "markdown",
      "source": [
        "##Ejercicio 7. by Manuel"
      ],
      "metadata": {
        "id": "xRiipH0Y95SD"
      }
    },
    {
      "cell_type": "markdown",
      "source": [
        "*Normal*"
      ],
      "metadata": {
        "id": "1klVw17U_VTP"
      }
    },
    {
      "cell_type": "code",
      "source": [
        "import random\n",
        "#declaro la lista del inventario\n",
        "stock=['martillo','alicate','clavo','perno']\n",
        "#declaro la lista que me dice si el objeto es de buena calidad o mala\n",
        "cality=['GOOD','FAIL']\n",
        "a=[]\n",
        "#Este for es para agregarle una calidad utilizando el random\n",
        "for i in stock:\n",
        "  a.append((i,random.choice(cality)))\n",
        "#Defino las listas que me van a guardar cuales elementos tienen buena calidad o no\n",
        "listg=[]\n",
        "listf=[]\n",
        "#Aqui guardando en cada lista los de calida y los malucos\n",
        "for x in a:\n",
        "  if ' GOOD' in x:\n",
        "    listg.append(x)\n",
        "\n",
        " #uso el elif para ver mejor el funcionamiento\n",
        "  elif 'FAIL' in x:\n",
        "    listf.append(x)\n",
        "print(listf)\n",
        "print(listg)     "
      ],
      "metadata": {
        "id": "0zmWiwd0-BGq"
      },
      "execution_count": null,
      "outputs": []
    },
    {
      "cell_type": "markdown",
      "source": [
        "*Comprensión*"
      ],
      "metadata": {
        "id": "JRnrmEGVBY4B"
      }
    },
    {
      "cell_type": "code",
      "source": [],
      "metadata": {
        "id": "sM5oYfBZBdJ5"
      },
      "execution_count": null,
      "outputs": []
    },
    {
      "cell_type": "markdown",
      "source": [
        "##Lambda"
      ],
      "metadata": {
        "id": "Eilm2kECFLU0"
      }
    },
    {
      "cell_type": "code",
      "source": [
        "#Pendiente"
      ],
      "metadata": {
        "id": "Jvf6gP8RFKIe"
      },
      "execution_count": null,
      "outputs": []
    },
    {
      "cell_type": "markdown",
      "source": [
        "##Ejercicio 8. BY paula"
      ],
      "metadata": {
        "id": "Iz0xO-LSGPbN"
      }
    },
    {
      "cell_type": "code",
      "source": [
        "def capitalizar(oración):\n",
        "  lista1=[]\n",
        "  for l in n1:\n",
        "    lista1.append(l)\n",
        "    lista1[0]=n1[0].upper()\n",
        "  print(\"\".join(lista1))  "
      ],
      "metadata": {
        "id": "sqhlF9gCGTVM"
      },
      "execution_count": null,
      "outputs": []
    },
    {
      "cell_type": "code",
      "source": [
        "n1=input(\"Ingresar una oración\")\n",
        "oración=capitalizar(n1)\n",
        "oración"
      ],
      "metadata": {
        "id": "lkeRXfGNIXaM"
      },
      "execution_count": null,
      "outputs": []
    },
    {
      "cell_type": "code",
      "source": [
        "listao=[]\n",
        "n=input(\"Ingresa una oración\")\n",
        "for l in n:\n",
        "  listap.append(l)\n",
        "  listap[0]=n[0].upper()\n",
        "print(\"\".join(listap))  "
      ],
      "metadata": {
        "id": "ZynouCbNJDj6"
      },
      "execution_count": null,
      "outputs": []
    },
    {
      "cell_type": "markdown",
      "source": [
        "##Ejercicio 9. By "
      ],
      "metadata": {
        "id": "Y-QPHeIgJnQY"
      }
    },
    {
      "cell_type": "code",
      "source": [
        "#Tradicional\n",
        "import random\n",
        "palabras=[\"a\",\"e\",\"i\",\"o\",\"u\"]\n",
        "números=[1,2,3,4,5,6,7,8,9]\n",
        "generador=[]\n",
        "for i in range(0,5):\n",
        "  generador.append(random.choice(palabras))\n",
        "  generador.append(random.choice(números))\n",
        "print(generador)\n",
        "  "
      ],
      "metadata": {
        "id": "LIb3T9CNJsJa"
      },
      "execution_count": null,
      "outputs": []
    },
    {
      "cell_type": "code",
      "source": [
        "#Comprensión\n",
        "import random\n",
        "x=input(\"Ingrese la palabra de la contraseña\")\n",
        "palabra=[letra for letra in x]\n",
        "numeros2=[num for num in range(0,10)]\n",
        "generador=[random.choice(numeros2) or random.choice(palabra for num in range(0,11))]\n",
        "print(generador)"
      ],
      "metadata": {
        "id": "Ut18oeAlKSL6"
      },
      "execution_count": null,
      "outputs": []
    },
    {
      "cell_type": "code",
      "source": [
        "#"
      ],
      "metadata": {
        "id": "32zvkG80Mx-x"
      },
      "execution_count": null,
      "outputs": []
    },
    {
      "cell_type": "markdown",
      "source": [
        "##Ejericio 11. By Ana"
      ],
      "metadata": {
        "id": "Iy2_KIPZNMkH"
      }
    },
    {
      "cell_type": "code",
      "source": [
        "#normal\n",
        "print(\"¡Hola! Soy Lucia del sistena de asignación de turnos para el pasaporte\")\n",
        "lista1=[('pedro',33)]"
      ],
      "metadata": {
        "id": "8b4BCCBYNPQJ"
      },
      "execution_count": null,
      "outputs": []
    },
    {
      "cell_type": "code",
      "source": [
        "##Lambda\n",
        "print(\"¡Hola! Soy Lucia del sistema de asignación de turnos para pasa\")"
      ],
      "metadata": {
        "id": "RPfhh60KP2aP"
      },
      "execution_count": null,
      "outputs": []
    }
  ]
}