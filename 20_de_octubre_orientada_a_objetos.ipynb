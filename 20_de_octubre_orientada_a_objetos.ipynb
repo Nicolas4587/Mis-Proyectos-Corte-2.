{
  "nbformat": 4,
  "nbformat_minor": 0,
  "metadata": {
    "colab": {
      "provenance": [],
      "collapsed_sections": []
    },
    "kernelspec": {
      "name": "python3",
      "display_name": "Python 3"
    },
    "language_info": {
      "name": "python"
    }
  },
  "cells": [
    {
      "cell_type": "code",
      "execution_count": 6,
      "metadata": {
        "id": "fNg5-glqBzrx"
      },
      "outputs": [],
      "source": [
        "class Empleado():\n",
        "  def __init__(self,nombre,edad,id,salario):\n",
        "    self.nombre=nombre\n",
        "    self.edad=edad\n",
        "    self.id=id\n",
        "    self.salario=salario"
      ]
    },
    {
      "cell_type": "markdown",
      "source": [
        "#POO o programación orientada a objetos\n",
        "Clase es como un molde\n",
        "* variables -->atributos\n",
        "* Funciones-->métodos\n",
        "* Constructor--> Constituye una clase\n",
        "* objetos: comparten atributos, métodos,\n",
        "relaciones que tienen una identidad propia"
      ],
      "metadata": {
        "id": "wopZ0F37Dn1B"
      }
    },
    {
      "cell_type": "code",
      "source": [
        "class Mascotas():\n",
        "  pass"
      ],
      "metadata": {
        "id": "gMvIcA6WEarp"
      },
      "execution_count": 16,
      "outputs": []
    },
    {
      "cell_type": "code",
      "source": [
        "a=Mascotas\n",
        "b=Mascotas"
      ],
      "metadata": {
        "id": "viP9cj9EE7AQ"
      },
      "execution_count": 17,
      "outputs": []
    },
    {
      "cell_type": "code",
      "source": [
        "if a==b:\n",
        "  print(\"son iguanitos\")\n",
        "else:\n",
        "  print(\"No son iguanitos\") "
      ],
      "metadata": {
        "colab": {
          "base_uri": "https://localhost:8080/"
        },
        "id": "sa4T25HDGVpf",
        "outputId": "c427bd7f-699d-4d87-bfdf-0612441c01d9"
      },
      "execution_count": 18,
      "outputs": [
        {
          "output_type": "stream",
          "name": "stdout",
          "text": [
            "son iguanitos\n"
          ]
        }
      ]
    },
    {
      "cell_type": "code",
      "source": [
        "class Empleado():\n",
        "  #construyendo un constructor\n",
        "  def __init__(self,nombre,edad,id,salario):\n",
        "    self.nombre=nombre\n",
        "    self.edad=edad\n",
        "    self.id=id\n",
        "    self.salario=salario\n",
        "\n",
        "  def __repr___(self):\n",
        "    return f\"nombre:{self.nombre}, edad:{self.edad}, id:{self.id}, salario={self.salario}\""
      ],
      "metadata": {
        "id": "5HZpEZdUGzqv"
      },
      "execution_count": 23,
      "outputs": []
    },
    {
      "cell_type": "code",
      "source": [
        "sonia=Empleado(\"Sonia\",25,\"U00152314\",10000000)"
      ],
      "metadata": {
        "id": "rCKIZvzSHdsc"
      },
      "execution_count": 20,
      "outputs": []
    },
    {
      "cell_type": "code",
      "source": [
        "print(sonia)"
      ],
      "metadata": {
        "colab": {
          "base_uri": "https://localhost:8080/"
        },
        "id": "zjcSg6aSH6l5",
        "outputId": "501acf89-0053-45ca-c88e-50023148c2f6"
      },
      "execution_count": 21,
      "outputs": [
        {
          "output_type": "stream",
          "name": "stdout",
          "text": [
            "<__main__.Empleado object at 0x7f68c4d35050>\n"
          ]
        }
      ]
    },
    {
      "cell_type": "code",
      "source": [
        "sonia.nombre"
      ],
      "metadata": {
        "colab": {
          "base_uri": "https://localhost:8080/",
          "height": 35
        },
        "id": "7zIh6zSUIS1W",
        "outputId": "1fec5710-b93f-498b-f62b-d486f08bf0c0"
      },
      "execution_count": 22,
      "outputs": [
        {
          "output_type": "execute_result",
          "data": {
            "text/plain": [
              "'Sonia'"
            ],
            "application/vnd.google.colaboratory.intrinsic+json": {
              "type": "string"
            }
          },
          "metadata": {},
          "execution_count": 22
        }
      ]
    },
    {
      "cell_type": "code",
      "source": [
        "sonia.__dict__"
      ],
      "metadata": {
        "id": "xGuZv9kvIjIG"
      },
      "execution_count": null,
      "outputs": []
    },
    {
      "cell_type": "code",
      "source": [
        "madaniel=Empleado(\"Pirulais\",83, \"U0015122345\",1000000)"
      ],
      "metadata": {
        "id": "12S-NuooNuZT"
      },
      "execution_count": 25,
      "outputs": []
    },
    {
      "cell_type": "code",
      "source": [
        "if sonia.salario==madaniel.salario:\n",
        "  print(f\"El salario de {madaniel.nombre} y {sonia.nombre} son iguales\")\n",
        "elif sonia.salario>madaniel.salario:\n",
        "  print(f\"El salario de {madaniel.nombre} es menor al de {sonia.nombre}\")\n",
        "else:\n",
        "  print(f\"El salario de {madaniel.nombre} es mayor al de {sonia.nombre}\")  "
      ],
      "metadata": {
        "colab": {
          "base_uri": "https://localhost:8080/"
        },
        "id": "bK9weIIyOAqa",
        "outputId": "9a0fa39b-35d1-4636-df93-ed6e1aaef0c0"
      },
      "execution_count": 26,
      "outputs": [
        {
          "output_type": "stream",
          "name": "stdout",
          "text": [
            "El salario de Pirulais es menor al de Sonia\n"
          ]
        }
      ]
    },
    {
      "cell_type": "code",
      "source": [
        "class Fraccion:\n",
        "  #Atributos de clase\n",
        "  num=0\n",
        "  den=1\n",
        "\n",
        "  #creando el constructor\n",
        "  def __init__(self,num=0,den=1):\n",
        "    self.num=num\n",
        "    self.den=den\n",
        "\n",
        "  def multiplica(self,b):\n",
        "    num=self.num*b.num\n",
        "    den=self.num*b.den\n",
        "    r=Fraccion(num,den)\n",
        "    return r\n",
        "\n",
        "  def imprime(self):\n",
        "    print(self.num,\"/\",self.den)\n",
        "\n"
      ],
      "metadata": {
        "id": "s7tOvbumPINh"
      },
      "execution_count": 31,
      "outputs": []
    },
    {
      "cell_type": "code",
      "source": [
        "#Creando objetos tipo Fracción\n",
        "a1=Fraccion(4,5)\n",
        "a2=Fraccion(8,9)"
      ],
      "metadata": {
        "id": "hRceaMPqRPV3"
      },
      "execution_count": 32,
      "outputs": []
    },
    {
      "cell_type": "code",
      "source": [
        "a1.imprime()\n",
        "a2.imprime()"
      ],
      "metadata": {
        "colab": {
          "base_uri": "https://localhost:8080/"
        },
        "id": "CROzsUnQRlsv",
        "outputId": "a075edb4-82ec-4c88-fcde-f47efb227879"
      },
      "execution_count": 33,
      "outputs": [
        {
          "output_type": "stream",
          "name": "stdout",
          "text": [
            "4 / 5\n",
            "8 / 9\n"
          ]
        }
      ]
    },
    {
      "cell_type": "code",
      "source": [
        "c=a1.multiplica(a2)\n",
        "c.imprime"
      ],
      "metadata": {
        "id": "GLPesMyiS_E0"
      },
      "execution_count": null,
      "outputs": []
    },
    {
      "cell_type": "code",
      "source": [
        "type(c)"
      ],
      "metadata": {
        "id": "PkBuE6bDUmZ1"
      },
      "execution_count": null,
      "outputs": []
    }
  ]
}