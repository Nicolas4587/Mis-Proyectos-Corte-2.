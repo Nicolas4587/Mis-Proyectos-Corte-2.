{
  "nbformat": 4,
  "nbformat_minor": 0,
  "metadata": {
    "colab": {
      "provenance": []
    },
    "kernelspec": {
      "name": "python3",
      "display_name": "Python 3"
    },
    "language_info": {
      "name": "python"
    }
  },
  "cells": [
    {
      "cell_type": "markdown",
      "source": [
        "##LAMBDA O FUNCIONES ANÓNIMAS\n",
        "\n",
        "\n",
        "1.   funciones pequeñas , de facil acceso y rapidos\n",
        "2.   Puede contener **varios** argumentos , pero solo una expresión\n",
        "\n",
        "definiendo lambda:\n",
        "lambda(parametro):expresión\n",
        "\n"
      ],
      "metadata": {
        "id": "FfM7xsKD9yYR"
      }
    },
    {
      "cell_type": "code",
      "execution_count": null,
      "metadata": {
        "colab": {
          "base_uri": "https://localhost:8080/"
        },
        "id": "KbrPKpBE9xdd",
        "outputId": "66d5471e-45f3-429a-8775-ab7ed58975da"
      },
      "outputs": [
        {
          "output_type": "execute_result",
          "data": {
            "text/plain": [
              "[9, 49, 36, 81]"
            ]
          },
          "metadata": {},
          "execution_count": 1
        }
      ],
      "source": [
        "#Función que eleve al cuadrado todos los elementos de una lista.\n",
        "lista=[3,7,6,9]\n",
        "#comprensión\n",
        "lista2=[n**2 for n in lista]\n",
        "lista2"
      ]
    },
    {
      "cell_type": "code",
      "source": [
        "def elevar(n):#se coloca * para indicar que va ingresar una lista\n",
        " for i in range(len(n)):\n",
        "   print()\n",
        "   \n",
        "\n",
        "\n",
        "elevar(lista)\n"
      ],
      "metadata": {
        "colab": {
          "base_uri": "https://localhost:8080/",
          "height": 321
        },
        "id": "nDkNPfT5-gru",
        "outputId": "5a762553-d0d3-4046-a505-68490622f87a"
      },
      "execution_count": null,
      "outputs": [
        {
          "output_type": "error",
          "ename": "TypeError",
          "evalue": "ignored",
          "traceback": [
            "\u001b[0;31m---------------------------------------------------------------------------\u001b[0m",
            "\u001b[0;31mTypeError\u001b[0m                                 Traceback (most recent call last)",
            "\u001b[0;32m<ipython-input-2-c1ebb436d924>\u001b[0m in \u001b[0;36m<module>\u001b[0;34m\u001b[0m\n\u001b[1;32m      3\u001b[0m \u001b[0;34m\u001b[0m\u001b[0m\n\u001b[1;32m      4\u001b[0m \u001b[0;34m\u001b[0m\u001b[0m\n\u001b[0;32m----> 5\u001b[0;31m \u001b[0melevar\u001b[0m\u001b[0;34m(\u001b[0m\u001b[0mlista\u001b[0m\u001b[0;34m)\u001b[0m\u001b[0;34m\u001b[0m\u001b[0;34m\u001b[0m\u001b[0m\n\u001b[0m",
            "\u001b[0;32m<ipython-input-2-c1ebb436d924>\u001b[0m in \u001b[0;36melevar\u001b[0;34m(n)\u001b[0m\n\u001b[1;32m      1\u001b[0m \u001b[0;32mdef\u001b[0m \u001b[0melevar\u001b[0m\u001b[0;34m(\u001b[0m\u001b[0mn\u001b[0m\u001b[0;34m)\u001b[0m\u001b[0;34m:\u001b[0m\u001b[0;31m#se coloca * para indicar que va ingresar una lista\u001b[0m\u001b[0;34m\u001b[0m\u001b[0;34m\u001b[0m\u001b[0m\n\u001b[0;32m----> 2\u001b[0;31m   \u001b[0;32mreturn\u001b[0m \u001b[0mn\u001b[0m\u001b[0;34m**\u001b[0m\u001b[0;36m2\u001b[0m\u001b[0;34m\u001b[0m\u001b[0;34m\u001b[0m\u001b[0m\n\u001b[0m\u001b[1;32m      3\u001b[0m \u001b[0;34m\u001b[0m\u001b[0m\n\u001b[1;32m      4\u001b[0m \u001b[0;34m\u001b[0m\u001b[0m\n\u001b[1;32m      5\u001b[0m \u001b[0melevar\u001b[0m\u001b[0;34m(\u001b[0m\u001b[0mlista\u001b[0m\u001b[0;34m)\u001b[0m\u001b[0;34m\u001b[0m\u001b[0;34m\u001b[0m\u001b[0m\n",
            "\u001b[0;31mTypeError\u001b[0m: unsupported operand type(s) for ** or pow(): 'list' and 'int'"
          ]
        }
      ]
    },
    {
      "cell_type": "code",
      "source": [
        "lambda1=lambda x:x**2\n",
        "lambda1(2)"
      ],
      "metadata": {
        "colab": {
          "base_uri": "https://localhost:8080/"
        },
        "id": "Y7sUtWkAAL8k",
        "outputId": "84aa4568-8dfa-4a78-a657-4bc31bc90e23"
      },
      "execution_count": null,
      "outputs": [
        {
          "output_type": "execute_result",
          "data": {
            "text/plain": [
              "4"
            ]
          },
          "metadata": {},
          "execution_count": 3
        }
      ]
    },
    {
      "cell_type": "code",
      "source": [
        "lambda2=lambda x,y:x**y\n",
        "lambda2(2,4)"
      ],
      "metadata": {
        "colab": {
          "base_uri": "https://localhost:8080/"
        },
        "id": "3ZgfDos8Aj9J",
        "outputId": "22fc56b6-b6b9-407a-b9f9-c1d442331a7f"
      },
      "execution_count": null,
      "outputs": [
        {
          "output_type": "execute_result",
          "data": {
            "text/plain": [
              "16"
            ]
          },
          "metadata": {},
          "execution_count": 4
        }
      ]
    },
    {
      "cell_type": "code",
      "source": [
        "lambda3=lambda num:True if num%2>=0 else False\n",
        "lambda3(4)"
      ],
      "metadata": {
        "colab": {
          "base_uri": "https://localhost:8080/"
        },
        "id": "odYBp3ZZA-Df",
        "outputId": "2492086f-0f36-4f8d-a0da-1f8b5402b05e"
      },
      "execution_count": null,
      "outputs": [
        {
          "output_type": "execute_result",
          "data": {
            "text/plain": [
              "True"
            ]
          },
          "metadata": {},
          "execution_count": 10
        }
      ]
    },
    {
      "cell_type": "code",
      "source": [
        "lambda3(3)"
      ],
      "metadata": {
        "colab": {
          "base_uri": "https://localhost:8080/"
        },
        "id": "0_dA0jc7BdJl",
        "outputId": "a16b15d8-78f2-481b-aef8-9c3d6057cdb5"
      },
      "execution_count": null,
      "outputs": [
        {
          "output_type": "execute_result",
          "data": {
            "text/plain": [
              "True"
            ]
          },
          "metadata": {},
          "execution_count": 12
        }
      ]
    },
    {
      "cell_type": "code",
      "source": [
        "letras={\"A\":3,\"B\":6,\"C\":9}\n",
        "sorted(letras,key=lambda x:letras[x]%3)"
      ],
      "metadata": {
        "colab": {
          "base_uri": "https://localhost:8080/"
        },
        "id": "ceClM2qQC070",
        "outputId": "83418bb9-d244-48db-bb46-5e65521fb319"
      },
      "execution_count": null,
      "outputs": [
        {
          "output_type": "execute_result",
          "data": {
            "text/plain": [
              "['A', 'B', 'C']"
            ]
          },
          "metadata": {},
          "execution_count": 15
        }
      ]
    },
    {
      "cell_type": "code",
      "source": [
        "import random\n",
        "mi_lista=[1,2,3,4,5,6,7,8,9,10]\n",
        "filtrado=[n for n in mi_lista if n%2!=0]\n",
        "filtrado"
      ],
      "metadata": {
        "colab": {
          "base_uri": "https://localhost:8080/"
        },
        "id": "fve8UkSsEGCD",
        "outputId": "3a3a0026-2384-4430-ca1e-a0000315ff47"
      },
      "execution_count": null,
      "outputs": [
        {
          "output_type": "execute_result",
          "data": {
            "text/plain": [
              "[1, 3, 5, 7, 9]"
            ]
          },
          "metadata": {},
          "execution_count": 18
        }
      ]
    },
    {
      "cell_type": "code",
      "source": [
        "mi_lista4=[i for i in range(1,11)]"
      ],
      "metadata": {
        "id": "xDLIyH_GGGup"
      },
      "execution_count": null,
      "outputs": []
    },
    {
      "cell_type": "code",
      "source": [
        "mi_lista2=[n for n in range (1,11)]\n",
        "mi_lista2"
      ],
      "metadata": {
        "colab": {
          "base_uri": "https://localhost:8080/"
        },
        "id": "r0wHeK7jE0k8",
        "outputId": "d191089f-7347-40ef-e227-ef870dd6def6"
      },
      "execution_count": null,
      "outputs": [
        {
          "output_type": "execute_result",
          "data": {
            "text/plain": [
              "[1, 2, 3, 4, 5, 6, 7, 8, 9, 10]"
            ]
          },
          "metadata": {},
          "execution_count": 19
        }
      ]
    },
    {
      "cell_type": "code",
      "source": [
        "mi_lista3=[random.randrange(1,11) for i in range(10)]\n",
        "mi_lista3"
      ],
      "metadata": {
        "colab": {
          "base_uri": "https://localhost:8080/"
        },
        "id": "sbWBFAuYFOR7",
        "outputId": "c714b403-25cd-4aa9-8ac8-781630dcbded"
      },
      "execution_count": null,
      "outputs": [
        {
          "output_type": "execute_result",
          "data": {
            "text/plain": [
              "[2, 6, 4, 5, 9, 1, 6, 3, 1, 4]"
            ]
          },
          "metadata": {},
          "execution_count": 20
        }
      ]
    },
    {
      "cell_type": "markdown",
      "source": [
        "##Funciones de orden superior\n",
        "1. MAP\n",
        "La función se aplica a cada elemento de la lista\n",
        "\n",
        "map(una_funcion,una_lista)"
      ],
      "metadata": {
        "id": "SV06sYi5G6oG"
      }
    },
    {
      "cell_type": "code",
      "source": [
        "cuadrados=[]#crenaod una lista vacia\n",
        "for i in lista:\n",
        "   cuadrados.append(i**2)"
      ],
      "metadata": {
        "id": "zbqcDayGHLRk"
      },
      "execution_count": null,
      "outputs": []
    },
    {
      "cell_type": "code",
      "source": [
        "cuadrados=[]#crenaod una lista vacia\n",
        "for i in lista:\n",
        "   cuadrados.append(i**2)\n",
        "print(cuadrados)\n"
      ],
      "metadata": {
        "colab": {
          "base_uri": "https://localhost:8080/"
        },
        "id": "Oe3dGAIyIYhj",
        "outputId": "bcbc0a03-6c25-489f-afd8-2eb1c5ad6cdc"
      },
      "execution_count": null,
      "outputs": [
        {
          "output_type": "stream",
          "name": "stdout",
          "text": [
            "[9, 49, 36, 81]\n"
          ]
        }
      ]
    },
    {
      "cell_type": "code",
      "source": [
        "cuadrado2=[x**2 for x in lista]#comprensión\n",
        "cuadrado2"
      ],
      "metadata": {
        "id": "EjyD0u8uIoYK"
      },
      "execution_count": null,
      "outputs": []
    },
    {
      "cell_type": "code",
      "source": [
        "cuadrado3=list(map(lambda x:x**2,lista))\n",
        "cuadrado3"
      ],
      "metadata": {
        "colab": {
          "base_uri": "https://localhost:8080/"
        },
        "id": "PcMX22unIwE4",
        "outputId": "4e70a1be-9564-472c-80ab-e5833e3564b4"
      },
      "execution_count": null,
      "outputs": [
        {
          "output_type": "execute_result",
          "data": {
            "text/plain": [
              "[9, 49, 36, 81]"
            ]
          },
          "metadata": {},
          "execution_count": 29
        }
      ]
    },
    {
      "cell_type": "markdown",
      "source": [
        "#2. FILTER\n",
        "filtrar. Si se cumple la condición devuleve un \n",
        "True\n",
        "\n",
        "se define: filter(una_funcion,una_lista)"
      ],
      "metadata": {
        "id": "E9hcsH6bJ1Fl"
      }
    },
    {
      "cell_type": "code",
      "source": [
        "valores=[num for num in range(1,10)]\n",
        "pares=[]\n",
        "for valor in valores:\n",
        "  if valor%2==0:\n",
        "    pares.append(valor)\n",
        "print(pares)"
      ],
      "metadata": {
        "colab": {
          "base_uri": "https://localhost:8080/"
        },
        "id": "jyqGVXXPKIEL",
        "outputId": "d8e5f019-1f6e-4c97-9b8a-7b64414fcc7a"
      },
      "execution_count": null,
      "outputs": [
        {
          "output_type": "stream",
          "name": "stdout",
          "text": [
            "[2, 4, 6, 8]\n"
          ]
        }
      ]
    },
    {
      "cell_type": "code",
      "source": [
        "valor2=[lol for lol in valores if lol%2==0]\n",
        "valor2"
      ],
      "metadata": {
        "colab": {
          "base_uri": "https://localhost:8080/"
        },
        "id": "XPQiKYIpKo5s",
        "outputId": "6527476a-e33d-4f29-903b-91f4b48f31b3"
      },
      "execution_count": null,
      "outputs": [
        {
          "output_type": "execute_result",
          "data": {
            "text/plain": [
              "[2, 4, 6, 8]"
            ]
          },
          "metadata": {},
          "execution_count": 32
        }
      ]
    },
    {
      "cell_type": "code",
      "source": [
        "valor3=list(filter(lambda julito: julito%2==0,valores))\n",
        "valor3"
      ],
      "metadata": {
        "colab": {
          "base_uri": "https://localhost:8080/"
        },
        "id": "eMNrwTq4LbDz",
        "outputId": "464d13b2-06c1-439c-ec10-df9ed262910b"
      },
      "execution_count": null,
      "outputs": [
        {
          "output_type": "execute_result",
          "data": {
            "text/plain": [
              "[2, 4, 6, 8]"
            ]
          },
          "metadata": {},
          "execution_count": 33
        }
      ]
    },
    {
      "cell_type": "markdown",
      "source": [
        "##3.REDUCE:\n",
        "Es un acumulador\n",
        "\n",
        "**Para usar Reduce se debe importar el modulo functools**"
      ],
      "metadata": {
        "id": "hqdUypdKL_Aa"
      }
    },
    {
      "cell_type": "code",
      "source": [
        "from functools import reduce\n",
        "\n",
        "def suma(lista):\n",
        "  suma=0\n",
        "  for i in lista:\n",
        "    suma+=i #suma=suma+i\n",
        "  return suma\n",
        "\n",
        "suma(valores)    "
      ],
      "metadata": {
        "colab": {
          "base_uri": "https://localhost:8080/"
        },
        "id": "mJo0DMxpMPVQ",
        "outputId": "e231aaa9-98fa-4bfb-9591-bc7c56d03b35"
      },
      "execution_count": null,
      "outputs": [
        {
          "output_type": "execute_result",
          "data": {
            "text/plain": [
              "45"
            ]
          },
          "metadata": {},
          "execution_count": 36
        }
      ]
    },
    {
      "cell_type": "code",
      "source": [
        "suma1=reduce(lambda x,y:x+y,valores)\n",
        "suma1"
      ],
      "metadata": {
        "colab": {
          "base_uri": "https://localhost:8080/"
        },
        "id": "ZaUc_XHSOLGR",
        "outputId": "ca0bfe02-fdc8-4092-beb0-c02d40a34e21"
      },
      "execution_count": null,
      "outputs": [
        {
          "output_type": "execute_result",
          "data": {
            "text/plain": [
              "45"
            ]
          },
          "metadata": {},
          "execution_count": 37
        }
      ]
    },
    {
      "cell_type": "code",
      "source": [
        "letras.keys()"
      ],
      "metadata": {
        "colab": {
          "base_uri": "https://localhost:8080/"
        },
        "id": "Hi04VxxIPVfw",
        "outputId": "e3fa21ea-4e60-4fdf-967c-002548c788c2"
      },
      "execution_count": null,
      "outputs": [
        {
          "output_type": "execute_result",
          "data": {
            "text/plain": [
              "dict_keys(['A', 'B', 'C'])"
            ]
          },
          "metadata": {},
          "execution_count": 38
        }
      ]
    },
    {
      "cell_type": "code",
      "source": [],
      "metadata": {
        "id": "6DHR364yPaBv"
      },
      "execution_count": null,
      "outputs": []
    }
  ]
}