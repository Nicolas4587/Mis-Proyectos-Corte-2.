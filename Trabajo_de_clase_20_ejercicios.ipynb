{
  "nbformat": 4,
  "nbformat_minor": 0,
  "metadata": {
    "colab": {
      "provenance": []
    },
    "kernelspec": {
      "name": "python3",
      "display_name": "Python 3"
    },
    "language_info": {
      "name": "python"
    }
  },
  "cells": [
    {
      "cell_type": "code",
      "source": [
        "from os import X_OK\n",
        "lista=[]\n",
        "for x in range(5):\n",
        "    valor=int(input(\"Ingresa un numero :\"))\n",
        "    lista.append(valor)\n",
        "\n",
        "mayor=lista[0]\n",
        "for x in range(1,5):\n",
        "    if lista[x]>mayor:\n",
        "        mayor=lista[x]\n",
        "\n",
        "menor=lista[0]\n",
        "for x in range(1,5):\n",
        "    if lista[x]<menor:\n",
        "        menor=lista[x]        \n",
        "\n",
        "print(\"La Lista esta  completa\")\n",
        "print(lista)\n",
        "print(\"El numero mayor de la lista es\",)\n",
        "print(mayor)\n",
        "print(\"El numero menor de la lista es\",)\n",
        "print(menor)"
      ],
      "metadata": {
        "colab": {
          "base_uri": "https://localhost:8080/"
        },
        "id": "8tHnn7RUvGEQ",
        "outputId": "8f388ecf-3a9b-4144-a418-c10a2a3e218a"
      },
      "execution_count": null,
      "outputs": [
        {
          "output_type": "stream",
          "name": "stdout",
          "text": [
            "Ingresa un numero :5439\n",
            "Ingresa un numero :25545\n",
            "Ingresa un numero :232355\n",
            "Ingresa un numero :245482359548\n",
            "Ingresa un numero :2482218932\n",
            "La Lista esta  completa\n",
            "[5439, 25545, 232355, 245482359548, 2482218932]\n",
            "El numero mayor de la lista es\n",
            "245482359548\n",
            "El numero menor de la lista es\n",
            "5439\n"
          ]
        }
      ]
    },
    {
      "cell_type": "markdown",
      "source": [
        "##ejercicio 5"
      ],
      "metadata": {
        "id": "8LeCrbjqq--S"
      }
    },
    {
      "cell_type": "code",
      "execution_count": null,
      "metadata": {
        "colab": {
          "base_uri": "https://localhost:8080/",
          "height": 130
        },
        "id": "uy_d6J60mQ5G",
        "outputId": "95fd991c-29c2-40d2-81fa-32e121fdb994"
      },
      "outputs": [
        {
          "output_type": "error",
          "ename": "SyntaxError",
          "evalue": "ignored",
          "traceback": [
            "\u001b[0;36m  File \u001b[0;32m\"<ipython-input-48-cfadc07e9791>\"\u001b[0;36m, line \u001b[0;32m12\u001b[0m\n\u001b[0;31m    int(cantidad=cantidad l)\u001b[0m\n\u001b[0m                          ^\u001b[0m\n\u001b[0;31mSyntaxError\u001b[0m\u001b[0;31m:\u001b[0m invalid syntax\n"
          ]
        }
      ],
      "source": [
        "lista =[]\n",
        "cantidad = int(input(\"cantidad:\"))\n",
        "mayor=0\n",
        "menor=0\n",
        "i = l\n",
        "\n",
        "\n",
        "while(cantidad > 0 ):\n",
        "  numeros = float(input(\"Numero #\"+str(i) +\": \"))\n",
        "  lista.append(\"numero\")\n",
        "  i=(i+l)\n",
        "  cantidad=cantidad l\n",
        "mayor = max(lista)\n",
        "menor = min(lista)\n",
        "\n",
        "print(\"lista:\",lista)\n",
        "print(\"Mayor:\",mayor)\n",
        "print(\"Menor:\",menor)"
      ]
    },
    {
      "cell_type": "code",
      "source": [
        "\n",
        "lista = [5,2,84,21,94,24]\n",
        "menor=None\n",
        "mayor=None\n",
        "for numero in lista:\n",
        "    if menor==None and mayor==None:\n",
        "        menor=numero\n",
        "        mayor==numero\n",
        "    else:\n",
        "        if numero==int(Nonetype)menor:\n",
        "           print(menor=numero)\n",
        "        if numero==int(Nonetype)mayor:\n",
        "           print(mayor=numero)\n",
        "#mostrar el resultado\n",
        "print(f'El numero mayor es[mayor]')\n",
        "print(f'El numero mayor es[menor]')\n",
        "         \n"
      ],
      "metadata": {
        "colab": {
          "base_uri": "https://localhost:8080/",
          "height": 130
        },
        "id": "TCtzEY1-nPI8",
        "outputId": "2d77ac32-d850-4015-f505-80f62a98ec10"
      },
      "execution_count": null,
      "outputs": [
        {
          "output_type": "error",
          "ename": "SyntaxError",
          "evalue": "ignored",
          "traceback": [
            "\u001b[0;36m  File \u001b[0;32m\"<ipython-input-35-28ac1d5bd776>\"\u001b[0;36m, line \u001b[0;32m9\u001b[0m\n\u001b[0;31m    if numero==int(Nonetype)menor:\u001b[0m\n\u001b[0m                                ^\u001b[0m\n\u001b[0;31mSyntaxError\u001b[0m\u001b[0;31m:\u001b[0m invalid syntax\n"
          ]
        }
      ]
    }
  ]
}