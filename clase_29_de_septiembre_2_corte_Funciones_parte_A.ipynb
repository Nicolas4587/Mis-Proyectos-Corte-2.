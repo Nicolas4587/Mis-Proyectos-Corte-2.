{
  "nbformat": 4,
  "nbformat_minor": 0,
  "metadata": {
    "colab": {
      "provenance": []
    },
    "kernelspec": {
      "name": "python3",
      "display_name": "Python 3"
    },
    "language_info": {
      "name": "python"
    }
  },
  "cells": [
    {
      "cell_type": "markdown",
      "source": [
        "##FUNCIONES \n",
        "dev( nombre cualquiera)(parametros o argumentos): lo que va dentro de la funcion\n",
        "\n",
        "##TIPOS DE FUNCIONES:\n",
        "\n",
        " 1. Sin parametros, sin retorno:\n",
        " - dev manuel():\n",
        " - print (\"tome sus cinco\")\n",
        "\n",
        "2. Sin parametros , con retorno:\n",
        " - def Nicolas():\n",
        " - print (\"hola Nicolas\")\n",
        " - a=5\n",
        " - return a \n",
        "3. Con parametros, sin retorno:\n",
        "- def holitas(a,\"b\", x=false):\n",
        "    int a \n",
        "    b= string\n",
        "    x= boolean\n",
        "    print(\"hola Nicolas\")\n",
        "    a=5 \n",
        "\n",
        "    return a \n",
        "    "
      ],
      "metadata": {
        "id": "IcXbZs991rER"
      }
    },
    {
      "cell_type": "code",
      "execution_count": null,
      "metadata": {
        "colab": {
          "base_uri": "https://localhost:8080/"
        },
        "id": "qV-58WWN1p54",
        "outputId": "56a36aeb-58e6-4eae-b2f6-754a17b9fb89"
      },
      "outputs": [
        {
          "output_type": "stream",
          "name": "stdout",
          "text": [
            "Hola mundo\n"
          ]
        }
      ],
      "source": [
        "print(\"Hola mundo\")\n",
        "def salude():\n",
        "  print(\"Saludar\")\n",
        "  print(\"es de cracks\")\n",
        "  print(\"Hola me llamo nicolas\")"
      ]
    },
    {
      "cell_type": "code",
      "source": [
        "salude()"
      ],
      "metadata": {
        "colab": {
          "base_uri": "https://localhost:8080/"
        },
        "id": "d3DmyYia4teS",
        "outputId": "4e77a700-52e5-4ea5-a878-11dbdcab9332"
      },
      "execution_count": null,
      "outputs": [
        {
          "output_type": "stream",
          "name": "stdout",
          "text": [
            "Saludar\n",
            "es de cracks\n",
            "Hola me llamo nicolas\n"
          ]
        }
      ]
    },
    {
      "cell_type": "code",
      "source": [
        "a=int(input(\"Ingrese el numero \"))\n",
        "b=int(input(\"Ingrese el numero \"))\n",
        "c=int(input(\"Ingrese el numero \"))\n",
        "\n",
        "if a!=b and a!=c and b!=c:\n",
        "  if a>b and a>c:\n",
        "    if b>c:\n",
        "      print(a, \"Es el valor mayor\")\n",
        "      print(b, \"Es el valor medio\")\n",
        "      print(c,\" Es el valor menor\")\n",
        "    else:\n",
        "      print(a, \"Es el valor mayor\")\n",
        "      print(c, \"Es el valor medio\")\n",
        "      print(b,\" Es el valor menor\")\n",
        "  elif b>a and b>c:\n",
        "    if a>c:\n",
        "      print(b, \"Es el valor mayor\")\n",
        "      print(a, \"Es el valor medio\")\n",
        "      print(c,\" Es el valor menor\") \n",
        "    else:\n",
        "      print(b, \"Es el valor mayor\")\n",
        "      print(c, \"Es el valor medio\")\n",
        "      print(a,\" Es el valor menor\")  \n",
        "    if c>a and c>b:\n",
        "     if a >b:\n",
        "      print(c, \"Es el valor mayor\")\n",
        "      print(a, \"Es el valor medio\")\n",
        "      print(b,\" Es el valor menor\")\n",
        "  else:\n",
        "      print(c, \"Es el valor mayor\")\n",
        "      print(b, \"Es el valor medio\")\n",
        "      print(a,\" Es el valor menor\")  \n",
        "else:\n",
        "      print(\"No es puede hacer el calculo\")  "
      ],
      "metadata": {
        "colab": {
          "base_uri": "https://localhost:8080/"
        },
        "id": "BfEvGwVF5AQS",
        "outputId": "fe5501bc-1897-413f-bc50-7043ecc0ef63"
      },
      "execution_count": null,
      "outputs": [
        {
          "output_type": "stream",
          "name": "stdout",
          "text": [
            "Ingrese el numero 5\n",
            "Ingrese el numero 6\n",
            "Ingrese el numero 8\n",
            "8 Es el valor mayor\n",
            "6 Es el valor medio\n",
            "5  Es el valor menor\n"
          ]
        }
      ]
    },
    {
      "cell_type": "code",
      "source": [
        "#Función sin parametros con retorno\n",
        "def imprimir (a,b,c):\n",
        "  print(a,\"es el valor mayor \")\n",
        "  print(b,\"es el valor medio \")\n",
        "  print(c,\"es el valor menor \")"
      ],
      "metadata": {
        "id": "trBoJ7jaBbvr"
      },
      "execution_count": 1,
      "outputs": []
    },
    {
      "cell_type": "code",
      "source": [
        "a=int(input(\"Ingrese el numero \"))\n",
        "b=int(input(\"Ingrese el numero \"))\n",
        "c=int(input(\"Ingrese el numero \"))\n",
        "if a!=b and a!=c and b!=c:\n",
        "  if a>b and a>c:\n",
        "    if b>c:\n",
        "      print(\"estoy aqui\")\n",
        "      imprimir(a,b,c)\n",
        "    else:\n",
        "      imprimir(a,c,b)\n",
        "  elif b>a and b>c:\n",
        "    if a>c:\n",
        "      imprimir(b,a,c)\n",
        "    else:\n",
        "      imprimir(b,c,a)\n",
        "    if c>a and c>b:\n",
        "     if a >b:\n",
        "      imprimir(c,a,b)\n",
        "    else:\n",
        "      imprimir(c,b,a) \n",
        "else:\n",
        "   print(\"No es puede hacer el calculo\")"
      ],
      "metadata": {
        "colab": {
          "base_uri": "https://localhost:8080/"
        },
        "id": "edBJcZRr8cPB",
        "outputId": "585b8471-75de-4c49-fbf0-4b4493998725"
      },
      "execution_count": 2,
      "outputs": [
        {
          "name": "stdout",
          "output_type": "stream",
          "text": [
            "Ingrese el numero 5\n",
            "Ingrese el numero 6\n",
            "Ingrese el numero 8\n"
          ]
        }
      ]
    },
    {
      "cell_type": "code",
      "source": [
        "a"
      ],
      "metadata": {
        "colab": {
          "base_uri": "https://localhost:8080/"
        },
        "id": "OlQyjsEKDE55",
        "outputId": "4877412f-8fec-44b2-9ce6-19f994448634"
      },
      "execution_count": 3,
      "outputs": [
        {
          "output_type": "execute_result",
          "data": {
            "text/plain": [
              "1"
            ]
          },
          "metadata": {},
          "execution_count": 3
        }
      ]
    },
    {
      "cell_type": "code",
      "source": [
        "b"
      ],
      "metadata": {
        "colab": {
          "base_uri": "https://localhost:8080/"
        },
        "id": "f9pUZ5WIDGYD",
        "outputId": "17d5862d-b777-45b0-d290-3236321c3b42"
      },
      "execution_count": 4,
      "outputs": [
        {
          "output_type": "execute_result",
          "data": {
            "text/plain": [
              "2"
            ]
          },
          "metadata": {},
          "execution_count": 4
        }
      ]
    },
    {
      "cell_type": "code",
      "source": [
        "c"
      ],
      "metadata": {
        "colab": {
          "base_uri": "https://localhost:8080/"
        },
        "id": "kO29Y2ppDHqq",
        "outputId": "41ee4144-01c6-4cb5-9de2-2205ec1b88e4"
      },
      "execution_count": 5,
      "outputs": [
        {
          "output_type": "execute_result",
          "data": {
            "text/plain": [
              "3"
            ]
          },
          "metadata": {},
          "execution_count": 5
        }
      ]
    },
    {
      "cell_type": "code",
      "source": [
        "#Función sin parametros con retorno\n",
        "def imprimir(a,b,c):\n",
        "  print(a,\"es el valor mayor \")\n",
        "  print(b,\"es el valor medio \")\n",
        "  print(c,\"es el valor menor \")"
      ],
      "metadata": {
        "id": "S9YBL3HkCCGE"
      },
      "execution_count": null,
      "outputs": []
    },
    {
      "cell_type": "code",
      "source": [
        "def comparar(a,b,c):\n",
        "  if a!=b and a!=c and b!=c:\n",
        "    if a>b and a>c:\n",
        "      if b>c:\n",
        "        print(\"estoy aqui\")\n",
        "        imprimir(a,b,c)\n",
        "      else:\n",
        "        imprimir(a,c,b)\n",
        "    elif b>a and b>c:\n",
        "      if a>c:\n",
        "        imprimir(b,a,c)\n",
        "      else:\n",
        "        imprimir(b,c,a)\n",
        "    if c>a and c>b:\n",
        "      if a >b:\n",
        "        imprimir(c,a,b)\n",
        "      else:\n",
        "        imprimir(c,b,a) \n",
        "    else:\n",
        "      print(\"No es puede hacer el calculo\")"
      ],
      "metadata": {
        "id": "U3Y8Z6BFCnMV"
      },
      "execution_count": 6,
      "outputs": []
    },
    {
      "cell_type": "code",
      "source": [
        "a=int(input(\"Ingrese el numero \"))\n",
        "b=int(input(\"Ingrese el numero \"))\n",
        "c=int(input(\"Ingrese el numero \"))\n",
        "\n",
        "comparar(c,b,a)\n"
      ],
      "metadata": {
        "id": "xUCs6yNpA3Kq",
        "colab": {
          "base_uri": "https://localhost:8080/"
        },
        "outputId": "8840e52e-de26-43b2-d9c6-8bd9cfe9a20e"
      },
      "execution_count": 7,
      "outputs": [
        {
          "output_type": "stream",
          "name": "stdout",
          "text": [
            "Ingrese el numero 6\n",
            "Ingrese el numero 5\n",
            "Ingrese el numero 4\n",
            "6 es el valor mayor \n",
            "5 es el valor medio \n",
            "4 es el valor menor \n"
          ]
        }
      ]
    },
    {
      "cell_type": "code",
      "source": [
        "#Función sin parametros con retorno\n",
        "def imprimir(a,b,c):\n",
        "  print(a,\"es consonante\")\n",
        "  print(b,\"es vocal\")\n",
        "  print(c,\"es numero\")"
      ],
      "metadata": {
        "id": "K7a7d8WmE8lm"
      },
      "execution_count": 6,
      "outputs": []
    },
    {
      "cell_type": "code",
      "source": [
        "a=int(input(\"ingresa cuaqluier cosa\"))\n",
        "b=int(input(\"ingresa cualquier cosa\"))\n",
        "c=int(input(\"ingresa cualquier cosa\"))\n",
        "if a!=b and a!=c and b!=c:\n",
        "  if a>b and a>c:\n",
        "    if b>c:\n",
        "      imprimir(a,b,c)\n",
        "    else:\n",
        "      imprimir(a,c,b)\n",
        "  elif b>a and b>c:\n",
        "    if a>c:\n",
        "      imprimir(b,a,c)\n",
        "    else:\n",
        "      imprimir(b,c,a)\n",
        "    if c>a and c>b:\n",
        "     if a >b:\n",
        "      imprimir(c,a,b)\n",
        "    else:\n",
        "      imprimir(c,b,a) \n",
        "else:\n",
        "  print(\"No es puede hacer el calculo\")"
      ],
      "metadata": {
        "colab": {
          "base_uri": "https://localhost:8080/",
          "height": 269
        },
        "id": "6OFi4_EDG_Q_",
        "outputId": "6597c13b-9d7d-4a73-c805-d509b23e7920"
      },
      "execution_count": 5,
      "outputs": [
        {
          "name": "stdout",
          "output_type": "stream",
          "text": [
            "ingresa cuaqluier cosa5\n",
            "ingresa cualquier cosag\n"
          ]
        },
        {
          "output_type": "error",
          "ename": "ValueError",
          "evalue": "ignored",
          "traceback": [
            "\u001b[0;31m---------------------------------------------------------------------------\u001b[0m",
            "\u001b[0;31mValueError\u001b[0m                                Traceback (most recent call last)",
            "\u001b[0;32m<ipython-input-5-558b7628e3f6>\u001b[0m in \u001b[0;36m<module>\u001b[0;34m\u001b[0m\n\u001b[1;32m      1\u001b[0m \u001b[0ma\u001b[0m\u001b[0;34m=\u001b[0m\u001b[0mint\u001b[0m\u001b[0;34m(\u001b[0m\u001b[0minput\u001b[0m\u001b[0;34m(\u001b[0m\u001b[0;34m\"ingresa cuaqluier cosa\"\u001b[0m\u001b[0;34m)\u001b[0m\u001b[0;34m)\u001b[0m\u001b[0;34m\u001b[0m\u001b[0;34m\u001b[0m\u001b[0m\n\u001b[0;32m----> 2\u001b[0;31m \u001b[0mb\u001b[0m\u001b[0;34m=\u001b[0m\u001b[0mint\u001b[0m\u001b[0;34m(\u001b[0m\u001b[0minput\u001b[0m\u001b[0;34m(\u001b[0m\u001b[0;34m\"ingresa cualquier cosa\"\u001b[0m\u001b[0;34m)\u001b[0m\u001b[0;34m)\u001b[0m\u001b[0;34m\u001b[0m\u001b[0;34m\u001b[0m\u001b[0m\n\u001b[0m\u001b[1;32m      3\u001b[0m \u001b[0mc\u001b[0m\u001b[0;34m=\u001b[0m\u001b[0mint\u001b[0m\u001b[0;34m(\u001b[0m\u001b[0minput\u001b[0m\u001b[0;34m(\u001b[0m\u001b[0;34m\"ingresa cualquier cosa\"\u001b[0m\u001b[0;34m)\u001b[0m\u001b[0;34m)\u001b[0m\u001b[0;34m\u001b[0m\u001b[0;34m\u001b[0m\u001b[0m\n\u001b[1;32m      4\u001b[0m \u001b[0;32mif\u001b[0m \u001b[0ma\u001b[0m\u001b[0;34m!=\u001b[0m\u001b[0mb\u001b[0m \u001b[0;32mand\u001b[0m \u001b[0ma\u001b[0m\u001b[0;34m!=\u001b[0m\u001b[0mc\u001b[0m \u001b[0;32mand\u001b[0m \u001b[0mb\u001b[0m\u001b[0;34m!=\u001b[0m\u001b[0mc\u001b[0m\u001b[0;34m:\u001b[0m\u001b[0;34m\u001b[0m\u001b[0;34m\u001b[0m\u001b[0m\n\u001b[1;32m      5\u001b[0m   \u001b[0;32mif\u001b[0m \u001b[0ma\u001b[0m\u001b[0;34m>\u001b[0m\u001b[0mb\u001b[0m \u001b[0;32mand\u001b[0m \u001b[0ma\u001b[0m\u001b[0;34m>\u001b[0m\u001b[0mc\u001b[0m\u001b[0;34m:\u001b[0m\u001b[0;34m\u001b[0m\u001b[0;34m\u001b[0m\u001b[0m\n",
            "\u001b[0;31mValueError\u001b[0m: invalid literal for int() with base 10: 'g'"
          ]
        }
      ]
    }
  ]
}