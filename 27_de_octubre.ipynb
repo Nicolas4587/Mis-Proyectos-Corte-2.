{
  "nbformat": 4,
  "nbformat_minor": 0,
  "metadata": {
    "colab": {
      "provenance": [],
      "collapsed_sections": []
    },
    "kernelspec": {
      "name": "python3",
      "display_name": "Python 3"
    },
    "language_info": {
      "name": "python"
    }
  },
  "cells": [
    {
      "cell_type": "code",
      "execution_count": null,
      "metadata": {
        "id": "8Vrr3kVAF2a3"
      },
      "outputs": [],
      "source": [
        "class Espadas(): #Clase madre\n",
        "  nombre=\"Soy una espada\"\n",
        "  daño=\"Causo daño\"\n",
        "  def __init__(self,nombre,daño):\n",
        "    self.nombre = nombre\n",
        "    self.daño = daño\n",
        "\n",
        "  def __repr__(self):\n",
        "    return f\"Espada de:{self.nombre}, y causa:{self.daño} de daño\"  "
      ]
    },
    {
      "cell_type": "code",
      "source": [
        "class Espada_elemental(Espadas): #Clase hija\n",
        " def masatributos(self,elemento,tamaño,durabilidad,color,habilidad,poder,destruccion, evolucion,golpefinal, superstar):\n",
        "   self.elemento = elemento\n",
        "   self.tamaño = tamaño\n",
        "   self.durabilidad = durabilidad\n",
        "   self.color = color\n",
        "   self.habilidad = habilidad\n",
        "   self.poder = poder\n",
        "   self.destruccion = destruccion\n",
        "   self.evolucion = evolucion\n",
        "   self.golpeginal = golpefinal\n",
        "   self.superstar = superstar"
      ],
      "metadata": {
        "id": "4DQ0En3RGnWl"
      },
      "execution_count": null,
      "outputs": []
    },
    {
      "cell_type": "code",
      "source": [
        "espada1=Espada_elemental(\"Espada de veneno\",10000) #Atributos clase madre"
      ],
      "metadata": {
        "id": "dVmldZk_I4eb"
      },
      "execution_count": null,
      "outputs": []
    },
    {
      "cell_type": "code",
      "source": [
        "print(espada1)"
      ],
      "metadata": {
        "colab": {
          "base_uri": "https://localhost:8080/"
        },
        "id": "N1gqU8HvJEqC",
        "outputId": "9151b24f-6c21-476c-eaf0-0db64efb35ae"
      },
      "execution_count": null,
      "outputs": [
        {
          "output_type": "stream",
          "name": "stdout",
          "text": [
            "Espada de:Espada de veneno, y causa:10000 de daño\n"
          ]
        }
      ]
    },
    {
      "cell_type": "code",
      "source": [
        "espada1.masatributos(\"veneno\", 100, 100 ,\"morado y negro\",\"tirar rayos\",\"muerte instantanea\",\"mundial\",\"Espada super saiyajiin\")"
      ],
      "metadata": {
        "id": "Y-QPtkF1Jlnt"
      },
      "execution_count": null,
      "outputs": []
    },
    {
      "cell_type": "code",
      "source": [
        "espada1.__dict__"
      ],
      "metadata": {
        "colab": {
          "base_uri": "https://localhost:8080/"
        },
        "id": "CUAwCW3CLHBi",
        "outputId": "294559bb-fb43-4a94-f1ac-60092d451edb"
      },
      "execution_count": null,
      "outputs": [
        {
          "output_type": "execute_result",
          "data": {
            "text/plain": [
              "{'nombre': 'Espada de veneno',\n",
              " 'daño': 10000,\n",
              " 'elemento': 'veneno',\n",
              " 'tamaño': 100,\n",
              " 'durabilidad': 100,\n",
              " 'color': 'morado y negro',\n",
              " 'habilidad': 'tirar rayos',\n",
              " 'poder': 'muerte instantanea'}"
            ]
          },
          "metadata": {},
          "execution_count": 28
        }
      ]
    },
    {
      "cell_type": "code",
      "source": [
        "class planetavegita(): #Clase madre\n",
        "  nombre=\"Soy un saiyajiin\"\n",
        "  daño=\"Demasiado\"\n",
        "  def __init__(self,nombre,daño,poder,transformarce,cola):\n",
        "    self.nombre = nombre\n",
        "    self.daño = daño\n",
        "    self.poder = poder\n",
        "    self.transformarce = transformarce\n",
        "    self.cola = cola\n",
        "  def trabajar(Self):\n",
        "    self.trabajo = trabajo\n",
        "\n",
        "\n",
        "  def __repr__(self):\n",
        "    return f\"saiyajiin:{self.nombre}, y causa:{self.daño}  Demasiado, poder:{self.poder} kamehameha, se convierte:{self.transformarce},supersaiyajiin , y se evoluciona en:{self.cola} ozaru\" "
      ],
      "metadata": {
        "id": "5MmET7L9OGMy"
      },
      "execution_count": null,
      "outputs": []
    },
    {
      "cell_type": "code",
      "source": [
        "class supersaiyajiin(planetavegita): #Clase hija\n",
        " def masatributos(self,saiyajiin,edad,infinita,supersaiyajiin,habilidad):\n",
        "   self.saiyajiin = saiyajiin\n",
        "   self.edad = edad\n",
        "   self.durabilidad = infinita\n",
        "   self.supersaiyajiin =  supersaiyajiin\n",
        "   self.habilidad = habilidad\n",
        "   "
      ],
      "metadata": {
        "id": "tg34mWLGNRWj"
      },
      "execution_count": null,
      "outputs": []
    },
    {
      "cell_type": "code",
      "source": [
        "supersaiyajiin=planetavegita(\"saiyajiin\",100,\"kamehameha\",\"supersaiyajiin\",\"ozaru\")"
      ],
      "metadata": {
        "id": "zbOVkgBLPAiG"
      },
      "execution_count": null,
      "outputs": []
    },
    {
      "cell_type": "code",
      "source": [
        "print(supersaiyajiin)"
      ],
      "metadata": {
        "colab": {
          "base_uri": "https://localhost:8080/"
        },
        "id": "YPOm_gHSPicm",
        "outputId": "df0042b3-99cc-405c-f6f0-dbf86228b4df"
      },
      "execution_count": null,
      "outputs": [
        {
          "output_type": "stream",
          "name": "stdout",
          "text": [
            "saiyajiin:saiyajiin, y causa:100  Demasiado, poder:kamehameha kamehameha, se convierte:supersaiyajiin,supersaiyajiin , y se evoluciona en:ozaru ozaru\n"
          ]
        }
      ]
    },
    {
      "cell_type": "code",
      "source": [
        "supersaiyajiin.masatributos(\"saiyajiin\", 100, \"Hasta morir\", \"supersaiyajiin 1\",\"kamehameha\")"
      ],
      "metadata": {
        "colab": {
          "base_uri": "https://localhost:8080/",
          "height": 165
        },
        "id": "1WzwWnEgN1yo",
        "outputId": "c59da243-5b78-4f34-c92a-3e44069f4e29"
      },
      "execution_count": null,
      "outputs": [
        {
          "output_type": "error",
          "ename": "TypeError",
          "evalue": "ignored",
          "traceback": [
            "\u001b[0;31m---------------------------------------------------------------------------\u001b[0m",
            "\u001b[0;31mTypeError\u001b[0m                                 Traceback (most recent call last)",
            "\u001b[0;32m<ipython-input-26-c707ab38bd16>\u001b[0m in \u001b[0;36m<module>\u001b[0;34m\u001b[0m\n\u001b[0;32m----> 1\u001b[0;31m \u001b[0msupersaiyajiin\u001b[0m\u001b[0;34m.\u001b[0m\u001b[0mmasatributos\u001b[0m\u001b[0;34m(\u001b[0m\u001b[0;34m\"saiyajiin\"\u001b[0m\u001b[0;34m,\u001b[0m \u001b[0;36m100\u001b[0m\u001b[0;34m,\u001b[0m \u001b[0;34m\"Hasta morir\"\u001b[0m\u001b[0;34m,\u001b[0m \u001b[0;34m\"supersaiyajiin 1\"\u001b[0m\u001b[0;34m,\u001b[0m\u001b[0;34m\"kamehameha\"\u001b[0m\u001b[0;34m)\u001b[0m\u001b[0;34m\u001b[0m\u001b[0;34m\u001b[0m\u001b[0m\n\u001b[0m",
            "\u001b[0;31mTypeError\u001b[0m: masatributos() missing 1 required positional argument: 'habilidad'"
          ]
        }
      ]
    }
  ]
}