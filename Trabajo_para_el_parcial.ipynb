{
  "nbformat": 4,
  "nbformat_minor": 0,
  "metadata": {
    "colab": {
      "provenance": []
    },
    "kernelspec": {
      "name": "python3",
      "display_name": "Python 3"
    },
    "language_info": {
      "name": "python"
    }
  },
  "cells": [
    {
      "cell_type": "code",
      "execution_count": null,
      "metadata": {
        "colab": {
          "base_uri": "https://localhost:8080/"
        },
        "id": "6Gny6jtG3QLm",
        "outputId": "edd260f2-1899-40f5-83da-3bb5a99240c5"
      },
      "outputs": [
        {
          "output_type": "stream",
          "name": "stdout",
          "text": [
            "Bienvenido al regristro de alumnos de la Unab\n",
            "Escoge la opcion que vas a utilizar\n",
            "----------------------------------------------------------------------\n",
            "1. Registro de alumnos\n",
            "2. Mostrar los alumnos\n",
            "3. Buscar un alumnos\n",
            "4. salir\n",
            "Selecciona la opcion: 4\n",
            "Hasta luego, que vuelvas pronto\n"
          ]
        }
      ],
      "source": [
        "lista = list()\n",
        "lista2 = [1,2,3,4,5,6,7,8,9,10,11,12,13,14,15,16,17,18,19,20]\n",
        "class Alumnos:\n",
        "  def __init__(self):\n",
        "    self.matriculados=(_)\n",
        "    self.nombre=(\" \")\n",
        "    self.edad=(_)\n",
        "    self.carrera=(\" \")\n",
        "def menu():\n",
        "  seleccion=0\n",
        "  while seleccion!=4:\n",
        "      print(\"Bienvenido al regristro de alumnos de la Unab\")\n",
        "      print(\"Escoge la opcion que vas a utilizar\")\n",
        "      print(\"----------------------------------------------------------------------\")\n",
        "      print(\"1. Registro de alumnos\")\n",
        "      print(\"2. Mostrar los alumnos\")\n",
        "      print(\"3. Buscar un alumnos\")\n",
        "      print(\"4. salir\")\n",
        "      seleccion=int(input(\"Selecciona la opcion: \"))\n",
        "      if seleccion == 1 :\n",
        "        registrar()\n",
        "      if seleccion == 2 : \n",
        "        mostrar()\n",
        "      if seleccion == 3 :\n",
        "        buscar()\n",
        "      if seleccion == 4 :\n",
        "        salir()\n",
        "def registrar():\n",
        "  print(\"Esta es la función de registro\")\n",
        "  alumno=Alumnos()\n",
        "  alumno.matricula=int(input(\"Introduce la matricula:\" ))\n",
        "  alumno.nombre=input(\"Introduce el nombre\")\n",
        "  alumno.edad=int(input(\"introduce la  edad: \"))\n",
        "  alumno.carrera=input(\"Introduce la carrera que cursas: \")\n",
        "  lista.append(alumno)\n",
        "def mostrar():\n",
        "  print(\"Esta es la función para mostrar alumnos registrados\")\n",
        "  for alumno in lista:\n",
        "    print(f\"El alumno{alumno.nombre},de matricula {alumno.matricula}, con edad de{alumno.edad},años que cursa la carrera{alumno.carrera}\")\n",
        "def buscar():\n",
        "  print(\"Esta es la función para buscar un alumno\")\n",
        "  busqueda=int(input(\"ingrese la matricula del alumno: \"))\n",
        "  for alumno in lista:\n",
        "    if alumno.matricula == busqueda or alumno.nombre == busqueda:\n",
        "      print(f\"{alumno.nombre},- {alumno.matricula},- {alumno.edad},- {alumno.carrera}\")\n",
        "def salir():\n",
        "  print(\"Hasta luego, que vuelvas pronto\")\n",
        "menu()\n",
        "                               "
      ]
    }
  ]
}