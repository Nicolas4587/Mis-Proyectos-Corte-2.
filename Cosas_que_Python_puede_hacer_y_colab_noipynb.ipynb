{
  "nbformat": 4,
  "nbformat_minor": 0,
  "metadata": {
    "colab": {
      "provenance": []
    },
    "kernelspec": {
      "name": "python3",
      "display_name": "Python 3"
    },
    "language_info": {
      "name": "python"
    }
  },
  "cells": [
    {
      "cell_type": "markdown",
      "source": [
        "##¿Qué no podemos hacer en Google Colab?"
      ],
      "metadata": {
        "id": "4qhHGJWBVlrr"
      }
    },
    {
      "cell_type": "markdown",
      "source": [
        "\n",
        "\n",
        " 1.   Alojar archivos, servir contenido multimedia u ofrecer otros servicios web que no estén relacionados con la computación interactiva de Colab.\n",
        "\n",
        " 2. Descargar torrents o compartir archivos de punto a punto.\n",
        "\n",
        " 3. Usar un escritorio remoto o SSH.\n",
        " 4. Conectarse a proxies remotos.\n",
        " 5. Minar criptomonedas.\n",
        " 6. Ejecutar ataques de denegación de servicio\n",
        " 7. Craquear contraseñas.\n",
        " 8. Usar varias cuentas para eludir las restricciones de acceso o de uso de recursos.\n",
        " 9. Crear ultrafalsos.\n",
        "\n",
        " 10. Acá no se pueden hacer bot\n",
        "\n",
        " 11. No se pueden hacer sitios web"
      ],
      "metadata": {
        "id": "gT-0wdUFVphp"
      }
    },
    {
      "cell_type": "markdown",
      "source": [
        "##Que si se puede hacer en python."
      ],
      "metadata": {
        "id": "_-16MqsjVsqi"
      }
    },
    {
      "cell_type": "markdown",
      "source": [
        "\n",
        "\n",
        "1.   Creando bots\n",
        "\n",
        "2.   Raspar sitios web\n",
        "\n",
        "3.   Aprendizaje automático, visualización y análisis de datos.\n",
        "\n",
        "4.   Desarrollo web con frameworks como Django y Frasco.\n",
        "\n",
        "5.   Desarrollo de juegos con Pygame.\n",
        "\n",
        "6.   Aplicaciones móviles con marcos como Kivy\n",
        "\n",
        "7.   Es un lenguaje multiparadigma. Esto significa que combina propiedades de diferentes paradigmas de programación, lo que permite que sea muy flexible y fácil de aprender de manera independiente de los conocimientos del interesado.\n",
        "\n",
        "8.   Python es apto para todas las plataformas. Podemos ejecutarlo en diferentes sistemas operativos como Windows o Linux simplemente usando el intérprete correspondiente.\n",
        "\n",
        "9.  Es de tipado dinámico.\n",
        "\n",
        "10. Es multiplataforma.\n",
        "\n",
        "11. Es orientado a objetos.\n",
        "\n",
        "12. De libre distribución.\n",
        "\n",
        "13. Tiene un gran soporte gracias a su comunidad. Por ejemplo, la última versión de Visual Studio te permite desarrollar en Python, o la comunidad de la página oficial de Python, dónde vemos todas las actividades que hacen en el mundo.\n",
        "\n",
        "14.  Tiene soporte e información para múltiple variedad de bases de datos.\n",
        "\n",
        "15. Simplificado y rápido.\n",
        "\n",
        "16. Ordenado y limpio.\n",
        "\n",
        "17. Elegante y flexible.\n",
        "\n",
        "18. Programación sana y productiva.\n",
        "\n",
        "19. Gratis y de código abierto\n",
        "\n",
        "20. Comunidad fuerte.\n",
        "\n"
      ],
      "metadata": {
        "id": "lAKR62ufW5kR"
      }
    },
    {
      "cell_type": "markdown",
      "source": [
        "##Desventajas de python\n",
        "\n",
        "1. Lentitud.\n",
        "\n",
        "2. Consumo de memoria.\n",
        "\n",
        "3. Desarrollo móvil.\n",
        "\n",
        "4. Curva de aprendizaje\n",
        "\n",
        "5. Hosting\n",
        "La mayoría de los servidores no tienen soporte a Python, y si lo soportan, la configuración es un poco difícil.\n",
        "\n",
        "6. Librerías incluidas\n",
        "Algunas librerías que trae por defecto no son del gusto de amplio de la comunidad, y optan a usar librerías de terceros."
      ],
      "metadata": {
        "id": "S5KBnP18afwp"
      }
    }
  ]
}