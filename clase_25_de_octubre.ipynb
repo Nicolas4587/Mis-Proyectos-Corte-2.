{
  "nbformat": 4,
  "nbformat_minor": 0,
  "metadata": {
    "colab": {
      "provenance": []
    },
    "kernelspec": {
      "name": "python3",
      "display_name": "Python 3"
    },
    "language_info": {
      "name": "python"
    }
  },
  "cells": [
    {
      "cell_type": "code",
      "execution_count": null,
      "metadata": {
        "id": "3cWZYaR1s1C6",
        "colab": {
          "base_uri": "https://localhost:8080/",
          "height": 130
        },
        "outputId": "f08e581e-90ac-426e-ed79-db40de190156"
      },
      "outputs": [
        {
          "output_type": "error",
          "ename": "IndentationError",
          "evalue": "ignored",
          "traceback": [
            "\u001b[0;36m  File \u001b[0;32m\"<ipython-input-14-66eb0ee73037>\"\u001b[0;36m, line \u001b[0;32m28\u001b[0m\n\u001b[0;31m    num=self.num * pi.den\u001b[0m\n\u001b[0m      ^\u001b[0m\n\u001b[0;31mIndentationError\u001b[0m\u001b[0;31m:\u001b[0m expected an indented block\n"
          ]
        }
      ],
      "source": [
        "from IPython.utils.sysinfo import num_cpus\n",
        "class Fraccion:\n",
        "  def __init__(self,num,den):\n",
        "    self.num=num\n",
        "    self.den=den\n",
        "\n",
        "  def imprimir(self):\n",
        "    return f\"El numerador es: {self.num} el denominador es: {self.den} \"\n",
        "\n",
        "  def sumita(self,x):\n",
        "    num=self.num * x.den + self.den*x.num\n",
        "    den=self.den*x.den\n",
        "\n",
        "    r= Fraccion(num,den)\n",
        "    print(f\"La suma entre: {self.num}/ {self.den} y {x.num} / {x.den} es: {r.num} / {r.den}\")\n",
        "    return r\n",
        "\n",
        "  def resta(self,z):\n",
        "    num=self.num * z.den - self.den*z.num\n",
        "    den=self.den*z.den\n",
        "    d=Fraccion(num,den)\n",
        "    print(f\"la resta entre: {self.num}/ {self.den} y {z.num}/ {z.den} es: {d.num}/ {d.den}\")\n",
        "    return d\n",
        "\n",
        "#pi es un tipo fraccion porque abajo esta el num y el den\n",
        "  def divi(self,pi):\n",
        "    if self.den*pi.num !=0: \n",
        "     num=self.num * pi.den\n",
        "     den=self.den * pi.num\n",
        "     m=Fraccion(num,den)\n",
        "     print(f\"La division :: {self.num}/ {self.den} y {pi.num}/ {pi.den} es: {m.num}/ {m.den}\")\n",
        "     return r\n",
        "\n",
        "    else:\n",
        "     print('eso no es de diosito')  \n",
        "       \n",
        "  def multiplicacion(self,x):\n",
        "    if self.den * x.num !=0:\n",
        "      num=self.num * x.num\n",
        "      den=self.den * x.den\n",
        "\n",
        "      t=Fraccion(num,den)        \n"
      ]
    },
    {
      "cell_type": "code",
      "source": [
        "class Fraaccion():\n",
        "  nume=0\n",
        "  deno=1\n",
        "  exp=0\n",
        "\n",
        "  def __init__(self,nume=0,deno=1,exp=0):\n",
        "    self.nume=nume\n",
        "    self.deno=deno\n",
        "    self.exp=exp\n",
        "\n",
        "  def potencia(self):\n",
        "    if self.exp <0:\n",
        "      nume=self.deno**self.exp\n",
        "      deno=self.num**self.exp\n",
        "\n",
        "      elif self.exp==0:\n",
        "        nume=1\n",
        "        deno=1\n",
        "\n",
        "  def imprime(Self):\n",
        "    print(self.num,\"/\",self.deno)\n"
      ],
      "metadata": {
        "id": "EokZxM52_CkM"
      },
      "execution_count": null,
      "outputs": []
    },
    {
      "cell_type": "code",
      "source": [
        "a=Fraccion(5,6,3)\n",
        "b=Fraccion(1,2,0)"
      ],
      "metadata": {
        "id": "49n7OaI9GOsC"
      },
      "execution_count": null,
      "outputs": []
    },
    {
      "cell_type": "code",
      "source": [
        "a =Fraccion(8,6)\n",
        "b=Fraccion(5,9)"
      ],
      "metadata": {
        "id": "8mFgCnFFxiu_"
      },
      "execution_count": null,
      "outputs": []
    },
    {
      "cell_type": "code",
      "source": [
        "print(a)"
      ],
      "metadata": {
        "colab": {
          "base_uri": "https://localhost:8080/"
        },
        "id": "Lbzfoh-EwIie",
        "outputId": "45cf2fcb-87ac-4301-e69c-40ce1ec9f213"
      },
      "execution_count": null,
      "outputs": [
        {
          "output_type": "stream",
          "name": "stdout",
          "text": [
            "<__main__.Fraccion object at 0x7f19f643a2d0>\n"
          ]
        }
      ]
    },
    {
      "cell_type": "code",
      "source": [
        "a.__dict__"
      ],
      "metadata": {
        "colab": {
          "base_uri": "https://localhost:8080/"
        },
        "id": "Mg2uh027wYBi",
        "outputId": "b6a4cd1c-8aee-46dd-9163-98b9ef4eb9c7"
      },
      "execution_count": null,
      "outputs": [
        {
          "output_type": "execute_result",
          "data": {
            "text/plain": [
              "{'num': 8, 'den': 6}"
            ]
          },
          "metadata": {},
          "execution_count": 6
        }
      ]
    },
    {
      "cell_type": "code",
      "source": [
        "a.imprimir()"
      ],
      "metadata": {
        "colab": {
          "base_uri": "https://localhost:8080/",
          "height": 35
        },
        "id": "GzyqiL6-xUie",
        "outputId": "c263bd6d-9ea5-42b0-c094-f438a797c714"
      },
      "execution_count": null,
      "outputs": [
        {
          "output_type": "execute_result",
          "data": {
            "text/plain": [
              "'El numerador es: 8 el denominador es: 6 '"
            ],
            "application/vnd.google.colaboratory.intrinsic+json": {
              "type": "string"
            }
          },
          "metadata": {},
          "execution_count": 9
        }
      ]
    },
    {
      "cell_type": "code",
      "source": [],
      "metadata": {
        "id": "zzSca-Mlx83O"
      },
      "execution_count": null,
      "outputs": []
    }
  ]
}