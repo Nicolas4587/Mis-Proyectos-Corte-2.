{
  "nbformat": 4,
  "nbformat_minor": 0,
  "metadata": {
    "colab": {
      "provenance": []
    },
    "kernelspec": {
      "name": "python3",
      "display_name": "Python 3"
    },
    "language_info": {
      "name": "python"
    }
  },
  "cells": [
    {
      "cell_type": "markdown",
      "source": [],
      "metadata": {
        "id": "Sz7rzlqToTSm"
      }
    },
    {
      "cell_type": "code",
      "execution_count": 2,
      "metadata": {
        "id": "243afx2DoQfU"
      },
      "outputs": [],
      "source": [
        "def npc(a,b):\n",
        "  if a>b:\n",
        "    print(f\"{a} es el mayor\")\n",
        "  else: \n",
        "    print(b, \"es el mayor \")"
      ]
    },
    {
      "cell_type": "code",
      "source": [
        "print(npc(5,4))"
      ],
      "metadata": {
        "colab": {
          "base_uri": "https://localhost:8080/"
        },
        "id": "Z6Gn6B_4ophz",
        "outputId": "1f1393ea-0f47-4683-9079-d5e97e231c92"
      },
      "execution_count": 3,
      "outputs": [
        {
          "output_type": "stream",
          "name": "stdout",
          "text": [
            "5 es el mayor\n",
            "None\n"
          ]
        }
      ]
    },
    {
      "cell_type": "code",
      "source": [
        "def mayor(x,y,z):\n",
        "  npc(x,npc(y,z))\n",
        "  "
      ],
      "metadata": {
        "id": "6ozcDf0Hou_1"
      },
      "execution_count": null,
      "outputs": []
    },
    {
      "cell_type": "code",
      "source": [
        "print(mayor(4,5,6))"
      ],
      "metadata": {
        "id": "Z5gvYPy2o73t"
      },
      "execution_count": null,
      "outputs": []
    },
    {
      "cell_type": "markdown",
      "source": [
        "##EJERCICIOS DE METODOS\n"
      ],
      "metadata": {
        "id": "CsjrVbbkp3da"
      }
    },
    {
      "cell_type": "markdown",
      "source": [
        "##1. Determine el mayor de dos números:"
      ],
      "metadata": {
        "id": "bUh5B5IXqBMz"
      }
    },
    {
      "cell_type": "code",
      "source": [
        "def npc(a,b):\n",
        "  if a>b:\n",
        "    print(f\"{a} es el mayor\")\n",
        "  else: \n",
        "    print(b, \"es el mayor \")   "
      ],
      "metadata": {
        "colab": {
          "base_uri": "https://localhost:8080/"
        },
        "id": "hLWbMXr0p86M",
        "outputId": "c2758bab-1f2c-4164-af74-2bd8cf8e8aea"
      },
      "execution_count": 4,
      "outputs": [
        {
          "output_type": "stream",
          "name": "stdout",
          "text": [
            "5 es el mayor\n",
            "None\n"
          ]
        }
      ]
    },
    {
      "cell_type": "code",
      "source": [
        "print(npc(5,4))"
      ],
      "metadata": {
        "id": "ahHsXm3UqTz1"
      },
      "execution_count": null,
      "outputs": []
    },
    {
      "cell_type": "markdown",
      "source": [
        "##2. Determine el mayor de tres números (empleando la función anterior):"
      ],
      "metadata": {
        "id": "OAG3zxVtqDTb"
      }
    },
    {
      "cell_type": "code",
      "source": [
        "def mayor(x,y,z):\n",
        "  npc(x,npc(y,z))"
      ],
      "metadata": {
        "id": "cvt96hOqqGGb"
      },
      "execution_count": 5,
      "outputs": []
    },
    {
      "cell_type": "code",
      "source": [
        "print(mayor(4,5,6))"
      ],
      "metadata": {
        "colab": {
          "base_uri": "https://localhost:8080/",
          "height": 328
        },
        "id": "GEfckJTFqmQl",
        "outputId": "f7cbd9b3-41c0-4e44-863b-aa1458ee7476"
      },
      "execution_count": 6,
      "outputs": [
        {
          "output_type": "stream",
          "name": "stdout",
          "text": [
            "6 es el mayor \n"
          ]
        },
        {
          "output_type": "error",
          "ename": "TypeError",
          "evalue": "ignored",
          "traceback": [
            "\u001b[0;31m---------------------------------------------------------------------------\u001b[0m",
            "\u001b[0;31mTypeError\u001b[0m                                 Traceback (most recent call last)",
            "\u001b[0;32m<ipython-input-6-52547e86f0e6>\u001b[0m in \u001b[0;36m<module>\u001b[0;34m\u001b[0m\n\u001b[0;32m----> 1\u001b[0;31m \u001b[0mprint\u001b[0m\u001b[0;34m(\u001b[0m\u001b[0mmayor\u001b[0m\u001b[0;34m(\u001b[0m\u001b[0;36m4\u001b[0m\u001b[0;34m,\u001b[0m\u001b[0;36m5\u001b[0m\u001b[0;34m,\u001b[0m\u001b[0;36m6\u001b[0m\u001b[0;34m)\u001b[0m\u001b[0;34m)\u001b[0m\u001b[0;34m\u001b[0m\u001b[0;34m\u001b[0m\u001b[0m\n\u001b[0m",
            "\u001b[0;32m<ipython-input-5-5d5c755fc6a0>\u001b[0m in \u001b[0;36mmayor\u001b[0;34m(x, y, z)\u001b[0m\n\u001b[1;32m      1\u001b[0m \u001b[0;32mdef\u001b[0m \u001b[0mmayor\u001b[0m\u001b[0;34m(\u001b[0m\u001b[0mx\u001b[0m\u001b[0;34m,\u001b[0m\u001b[0my\u001b[0m\u001b[0;34m,\u001b[0m\u001b[0mz\u001b[0m\u001b[0;34m)\u001b[0m\u001b[0;34m:\u001b[0m\u001b[0;34m\u001b[0m\u001b[0;34m\u001b[0m\u001b[0m\n\u001b[0;32m----> 2\u001b[0;31m   \u001b[0mnpc\u001b[0m\u001b[0;34m(\u001b[0m\u001b[0mx\u001b[0m\u001b[0;34m,\u001b[0m\u001b[0mnpc\u001b[0m\u001b[0;34m(\u001b[0m\u001b[0my\u001b[0m\u001b[0;34m,\u001b[0m\u001b[0mz\u001b[0m\u001b[0;34m)\u001b[0m\u001b[0;34m)\u001b[0m\u001b[0;34m\u001b[0m\u001b[0;34m\u001b[0m\u001b[0m\n\u001b[0m",
            "\u001b[0;32m<ipython-input-4-599771bdd3a8>\u001b[0m in \u001b[0;36mnpc\u001b[0;34m(a, b)\u001b[0m\n\u001b[1;32m      1\u001b[0m \u001b[0;32mdef\u001b[0m \u001b[0mnpc\u001b[0m\u001b[0;34m(\u001b[0m\u001b[0ma\u001b[0m\u001b[0;34m,\u001b[0m\u001b[0mb\u001b[0m\u001b[0;34m)\u001b[0m\u001b[0;34m:\u001b[0m\u001b[0;34m\u001b[0m\u001b[0;34m\u001b[0m\u001b[0m\n\u001b[0;32m----> 2\u001b[0;31m   \u001b[0;32mif\u001b[0m \u001b[0ma\u001b[0m\u001b[0;34m>\u001b[0m\u001b[0mb\u001b[0m\u001b[0;34m:\u001b[0m\u001b[0;34m\u001b[0m\u001b[0;34m\u001b[0m\u001b[0m\n\u001b[0m\u001b[1;32m      3\u001b[0m     \u001b[0mprint\u001b[0m\u001b[0;34m(\u001b[0m\u001b[0;34mf\"{a} es el mayor\"\u001b[0m\u001b[0;34m)\u001b[0m\u001b[0;34m\u001b[0m\u001b[0;34m\u001b[0m\u001b[0m\n\u001b[1;32m      4\u001b[0m   \u001b[0;32melse\u001b[0m\u001b[0;34m:\u001b[0m\u001b[0;34m\u001b[0m\u001b[0;34m\u001b[0m\u001b[0m\n\u001b[1;32m      5\u001b[0m     \u001b[0mprint\u001b[0m\u001b[0;34m(\u001b[0m\u001b[0mb\u001b[0m\u001b[0;34m,\u001b[0m \u001b[0;34m\"es el mayor \"\u001b[0m\u001b[0;34m)\u001b[0m\u001b[0;34m\u001b[0m\u001b[0;34m\u001b[0m\u001b[0m\n",
            "\u001b[0;31mTypeError\u001b[0m: '>' not supported between instances of 'int' and 'NoneType'"
          ]
        }
      ]
    },
    {
      "cell_type": "markdown",
      "source": [
        "##3. Sumar los números de una lista de 3 elementos. Ejemplo [3,4,5]. Salida: 12"
      ],
      "metadata": {
        "id": "t9WzHCfvqomo"
      }
    },
    {
      "cell_type": "code",
      "source": [
        "lista = [3,4,5]\n",
        "\n",
        "def sumar(lista):\n",
        "  suma = 0\n",
        "  for elementos in lista:\n",
        "       suma+= elementos\n",
        "  return suma\n"
      ],
      "metadata": {
        "id": "AaL4sogHqrCw"
      },
      "execution_count": 20,
      "outputs": []
    },
    {
      "cell_type": "code",
      "source": [
        "print(sumar(lista))"
      ],
      "metadata": {
        "colab": {
          "base_uri": "https://localhost:8080/"
        },
        "id": "wyk0SD3srFFw",
        "outputId": "6bf19fa4-134c-4dce-931f-d599bb44212a"
      },
      "execution_count": 21,
      "outputs": [
        {
          "output_type": "stream",
          "name": "stdout",
          "text": [
            "12\n"
          ]
        }
      ]
    },
    {
      "cell_type": "markdown",
      "source": [
        "##4. Sumar los números de una lista de 4 elementos. Ejemplo [3,4,5,6]. Salida: 18"
      ],
      "metadata": {
        "id": "JDE-0ZZLs5S0"
      }
    },
    {
      "cell_type": "code",
      "source": [
        "lista2 = [3,4,5,6]\n",
        "\n",
        "def sumar(lista):\n",
        "  suma = 0\n",
        "  for elementos in lista:\n",
        "      suma+=elementos\n",
        "  return suma    "
      ],
      "metadata": {
        "id": "KPPHS-yqs6gM"
      },
      "execution_count": 22,
      "outputs": []
    },
    {
      "cell_type": "code",
      "source": [
        "print(sumar(lista2))"
      ],
      "metadata": {
        "colab": {
          "base_uri": "https://localhost:8080/"
        },
        "id": "FtFVAj2ou53O",
        "outputId": "bf580fff-d266-40ed-f1e5-1bde17daab56"
      },
      "execution_count": 23,
      "outputs": [
        {
          "output_type": "stream",
          "name": "stdout",
          "text": [
            "18\n"
          ]
        }
      ]
    },
    {
      "cell_type": "markdown",
      "source": [
        "##5. Sumar todos los números de una lista. Ejemplo: (8,5,3,1). Salida: 17"
      ],
      "metadata": {
        "id": "iZxZff6ju-qm"
      }
    },
    {
      "cell_type": "code",
      "source": [
        "def sumar(number1,number2,number3,number4):\n",
        "    print(number1+number2+number3+number4)\n",
        "\n",
        "sumar(8,5,3,1)    \n",
        "   \n",
        "\n",
        "\n",
        "def sumar_lista(numeros):\n",
        "\n",
        "  productos2 = 0\n",
        "\n",
        "  for numero in numeros:\n",
        "      productos2+=numero\n",
        "\n",
        "  return productos2\n",
        "\n",
        "numeros=[8,5,3,1]      \n",
        "\n",
        "print(sumar_lista(numeros))   "
      ],
      "metadata": {
        "colab": {
          "base_uri": "https://localhost:8080/"
        },
        "id": "kYs-LiDMvIIm",
        "outputId": "cf7c64fb-1fdc-456d-b4c1-95b1ba6553a4"
      },
      "execution_count": 20,
      "outputs": [
        {
          "output_type": "stream",
          "name": "stdout",
          "text": [
            "17\n",
            "17\n"
          ]
        }
      ]
    },
    {
      "cell_type": "markdown",
      "source": [
        "##6. Multiplicar los números de una lista de 3 elementos. Ejemplo [0,4,5]. Salida: 0"
      ],
      "metadata": {
        "id": "oR1rDyhKyS65"
      }
    },
    {
      "cell_type": "code",
      "source": [
        "lista3 = [0,4,5]\n",
        "\n",
        "def multiplicar(lista):\n",
        "  multiplicar = 0\n",
        "  for elementos in lista:\n",
        "      multiplicar*=elementos\n",
        "  return multiplicar"
      ],
      "metadata": {
        "id": "xe5xBY0LyOwa"
      },
      "execution_count": 3,
      "outputs": []
    },
    {
      "cell_type": "code",
      "source": [
        "print(multiplicar(lista3))"
      ],
      "metadata": {
        "colab": {
          "base_uri": "https://localhost:8080/"
        },
        "id": "O5kNu4pt1gsH",
        "outputId": "5c1ea3c4-87bd-4474-a531-dc69250bacbd"
      },
      "execution_count": 4,
      "outputs": [
        {
          "output_type": "stream",
          "name": "stdout",
          "text": [
            "0\n"
          ]
        }
      ]
    },
    {
      "cell_type": "markdown",
      "source": [
        "##7. Multiplicar los números de una lista de 4 elementos. Ejemplo [3,4,5,1]. Salida: 60"
      ],
      "metadata": {
        "id": "dTVtEwqzzV2Z"
      }
    },
    {
      "cell_type": "code",
      "source": [
        "lista4 = [3,4,5,1]\n",
        " \n",
        "def multiplicar(lista):\n",
        "  multiplicar = 1\n",
        "  for elementos in lista:\n",
        "      multiplicar*=elementos\n",
        "  return multiplicar  \n"
      ],
      "metadata": {
        "id": "m81KyeXZzpzZ"
      },
      "execution_count": 13,
      "outputs": []
    },
    {
      "cell_type": "code",
      "source": [
        "print(multiplicar(lista4))"
      ],
      "metadata": {
        "colab": {
          "base_uri": "https://localhost:8080/"
        },
        "id": "xQI-AIKe2kQ3",
        "outputId": "6001754a-7778-4d96-c77c-a85adda9f12e"
      },
      "execution_count": 14,
      "outputs": [
        {
          "output_type": "stream",
          "name": "stdout",
          "text": [
            "60\n"
          ]
        }
      ]
    },
    {
      "cell_type": "markdown",
      "source": [
        "##8. Multiplicar todos los números de una lista. Ejemplo: (1,2,3,-1). Salida: -6"
      ],
      "metadata": {
        "id": "bUpTtv4z4YTM"
      }
    },
    {
      "cell_type": "code",
      "source": [
        "def multiplicar_lista(numeros):\n",
        "\n",
        "  productos = 1 \n",
        "\n",
        "  for numero in numeros:\n",
        "      productos*=numero\n",
        "\n",
        "  return productos\n",
        "\n",
        "numeros=[1,2,3,-1]      \n",
        "\n",
        "print(multiplicar_lista(numeros))"
      ],
      "metadata": {
        "colab": {
          "base_uri": "https://localhost:8080/"
        },
        "id": "3nE2FI6_4f7R",
        "outputId": "81e81ced-0abd-4b64-c542-c8b30af0d3b6"
      },
      "execution_count": 17,
      "outputs": [
        {
          "output_type": "stream",
          "name": "stdout",
          "text": [
            "-6\n"
          ]
        }
      ]
    },
    {
      "cell_type": "markdown",
      "source": [
        "##9. Invierta un String. Ejemplo: ingresa Hola y retorna aloH"
      ],
      "metadata": {
        "id": "Q-NgrOV6692l"
      }
    },
    {
      "cell_type": "code",
      "source": [
        "texto = \"Hola\"\n",
        "\n",
        "texto_invertido =\"\".join(reversed(texto))\n",
        "\n",
        "print(texto)\n",
        "print(texto_invertido)"
      ],
      "metadata": {
        "colab": {
          "base_uri": "https://localhost:8080/"
        },
        "id": "3Ivax1nz7CQT",
        "outputId": "c8c91bb1-7633-497d-a942-1364ea522642"
      },
      "execution_count": 21,
      "outputs": [
        {
          "output_type": "stream",
          "name": "stdout",
          "text": [
            "Hola\n",
            "aloH\n"
          ]
        }
      ]
    },
    {
      "cell_type": "markdown",
      "source": [
        "##10. Calcular el factorial de un número"
      ],
      "metadata": {
        "id": "qhv2AP9m69wJ"
      }
    },
    {
      "cell_type": "code",
      "source": [
        "def factorial(n): \n",
        "    return 1 if (n==1 or n==0) else n * factorial(n - 1);  \n",
        "  \n",
        "num = 4; \n",
        "print(\" El Factorial de\",num,\"es el \", factorial(num))\n",
        "\n",
        "\n",
        "from math import factorial\n",
        "\n",
        "print (\" El Factorial es\", factorial(3))"
      ],
      "metadata": {
        "colab": {
          "base_uri": "https://localhost:8080/"
        },
        "id": "VRW3qr0U8Kwa",
        "outputId": "6df44ab2-3284-46ec-b557-ef13b329831c"
      },
      "execution_count": 25,
      "outputs": [
        {
          "output_type": "stream",
          "name": "stdout",
          "text": [
            "Factorial de 4 es 24\n",
            "Factorial is 6\n"
          ]
        }
      ]
    },
    {
      "cell_type": "markdown",
      "source": [
        "##11. Si un número está dentro de un rango."
      ],
      "metadata": {
        "id": "6lFwPLXW9Plu"
      }
    },
    {
      "cell_type": "code",
      "source": [
        "list(range(1, 11))"
      ],
      "metadata": {
        "colab": {
          "base_uri": "https://localhost:8080/"
        },
        "id": "tTbJKtpv9LsO",
        "outputId": "8b7452d6-dbe6-43f6-adbe-f93be08ec4a2"
      },
      "execution_count": 29,
      "outputs": [
        {
          "output_type": "execute_result",
          "data": {
            "text/plain": [
              "[1, 2, 3, 4, 5, 6, 7, 8, 9, 10]"
            ]
          },
          "metadata": {},
          "execution_count": 29
        }
      ]
    },
    {
      "cell_type": "code",
      "source": [
        "list(range(10))"
      ],
      "metadata": {
        "colab": {
          "base_uri": "https://localhost:8080/"
        },
        "id": "QnN7yh7-AyUc",
        "outputId": "f5183ca1-60a6-48e8-b701-02e2b49333a9"
      },
      "execution_count": 31,
      "outputs": [
        {
          "output_type": "execute_result",
          "data": {
            "text/plain": [
              "[0, 1, 2, 3, 4, 5, 6, 7, 8, 9]"
            ]
          },
          "metadata": {},
          "execution_count": 31
        }
      ]
    },
    {
      "cell_type": "code",
      "source": [
        "x = range(10)\n",
        "x\n",
        "range(0, 10)\n",
        "list(x)"
      ],
      "metadata": {
        "colab": {
          "base_uri": "https://localhost:8080/"
        },
        "id": "VMNHO-PCBBxF",
        "outputId": "7423e19b-aec2-4afc-96ab-4e76ec54c042"
      },
      "execution_count": 33,
      "outputs": [
        {
          "output_type": "execute_result",
          "data": {
            "text/plain": [
              "[0, 1, 2, 3, 4, 5, 6, 7, 8, 9]"
            ]
          },
          "metadata": {},
          "execution_count": 33
        }
      ]
    },
    {
      "cell_type": "code",
      "source": [
        "range(7)\n",
        "range(0, 7)\n",
        "list(range(7))"
      ],
      "metadata": {
        "colab": {
          "base_uri": "https://localhost:8080/"
        },
        "id": "_7kXF1qhBON-",
        "outputId": "9ca78a57-3a4a-4b92-975d-45d01d5ef962"
      },
      "execution_count": 34,
      "outputs": [
        {
          "output_type": "execute_result",
          "data": {
            "text/plain": [
              "[0, 1, 2, 3, 4, 5, 6]"
            ]
          },
          "metadata": {},
          "execution_count": 34
        }
      ]
    },
    {
      "cell_type": "markdown",
      "source": [
        "##12. Capture el número de mayúsculas y minúsculas en una oración.\n"
      ],
      "metadata": {
        "id": "TJy9FFSvBbcb"
      }
    }
  ]
}